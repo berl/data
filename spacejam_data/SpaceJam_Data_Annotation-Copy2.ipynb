{
 "cells": [
  {
   "cell_type": "code",
   "execution_count": 1,
   "metadata": {},
   "outputs": [
    {
     "data": {
      "text/html": [
       "<style>.container { width:100% !important; }</style>"
      ],
      "text/plain": [
       "<IPython.core.display.HTML object>"
      ]
     },
     "metadata": {},
     "output_type": "display_data"
    }
   ],
   "source": [
    "%gui qt\n",
    "import napari\n",
    "import pandas as pd\n",
    "import numpy as np\n",
    "from IPython.core.display import display, HTML\n",
    "display(HTML(\"<style>.container { width:100% !important; }</style>\"))\n",
    "from shapely.geometry import Polygon, Point"
   ]
  },
  {
   "cell_type": "markdown",
   "metadata": {},
   "source": [
    "## Make a napari viewer..."
   ]
  },
  {
   "cell_type": "code",
   "execution_count": 2,
   "metadata": {},
   "outputs": [],
   "source": [
    "v = napari.Viewer()"
   ]
  },
  {
   "cell_type": "markdown",
   "metadata": {},
   "source": [
    "## Load cell x gene data from 1 dataset"
   ]
  },
  {
   "cell_type": "code",
   "execution_count": 3,
   "metadata": {},
   "outputs": [],
   "source": [
    "all_cells = pd.read_csv(\"/Users/brian/Downloads/cellxgene.csv\")\n",
    "\n"
   ]
  },
  {
   "cell_type": "markdown",
   "metadata": {},
   "source": [
    "### Add the cells as points, double-plotting cells with high Rorb, Cux2 if available"
   ]
  },
  {
   "cell_type": "code",
   "execution_count": 8,
   "metadata": {},
   "outputs": [],
   "source": [
    "cells = v.add_points(all_cells[[\"x_um\",\"y_um\"]], symbol='o', name = \"all\", opacity = 0.8, blending = \"translucent\")\n",
    "colorlist = [\"magenta\", \"green\",\"yellow\",\"cyan\", \"blue\", \"orange\"]\n",
    "for ii, gene_to_plot in enumerate([\"Cux2\", \"Atp1a3\" , \"Vxn\", \"Pcp4\" , \"Fezf2\" , \"Rorb\" , \"Gm11549\"]):\n",
    "\n",
    "    if gene_to_plot in all_cells:\n",
    "        cux2condition = all_cells[gene_to_plot]>0.5*all_cells[gene_to_plot].median()\n",
    "        cux2cells = v.add_points(all_cells[cux2condition][[\"x_um\",\"y_um\"]], symbol='disc',\n",
    "                                 name = gene_to_plot+\"+\",edge_color= \"black\", size = 150,\n",
    "                                 face_color= colorlist[ ii % len(colorlist)] , blending = \"translucent\", opacity = 0.3)\n"
   ]
  },
  {
   "cell_type": "markdown",
   "metadata": {},
   "source": [
    "### annotate the layers in that viewer in a single `shapes` layer\n",
    "#### Naming/order Convention:\n",
    "0. outline of entire column as rectangle\n",
    "1. Layer 1\n",
    "1. Layer 2/3\n",
    "2. Layer 4\n",
    "3. Layer 5\n",
    "4. Layer 6\n",
    "5. single line segment, pointing from pia to white matter "
   ]
  },
  {
   "cell_type": "markdown",
   "metadata": {},
   "source": [
    "#### annotate the layer locations in a list"
   ]
  },
  {
   "cell_type": "code",
   "execution_count": 9,
   "metadata": {},
   "outputs": [
    {
     "data": {
      "text/plain": [
       "[<Points layer 'all' at 0x1305e4f10>,\n",
       " <Points layer 'Cux2+' at 0x130608850>,\n",
       " <Points layer 'Fezf2+' at 0x130fbab90>,\n",
       " <Points layer 'Rorb+' at 0x130fba950>,\n",
       " <Shapes layer 'Shapes' at 0x131003290>]"
      ]
     },
     "execution_count": 9,
     "metadata": {},
     "output_type": "execute_result"
    }
   ],
   "source": [
    "v.layers"
   ]
  },
  {
   "cell_type": "code",
   "execution_count": 10,
   "metadata": {},
   "outputs": [],
   "source": [
    "is_in_layer = {ii:[Polygon(p).intersects(Point(a))  for a  in v.layers[0].data] for ii,p in enumerate(v.layers[-1].data[:-1])}"
   ]
  },
  {
   "cell_type": "code",
   "execution_count": null,
   "metadata": {},
   "outputs": [],
   "source": [
    "# ok:\n",
    "# 1. make a couple functions to do this\n",
    "#.  #. do a spatially partitioned search based on bounding box of polygon\n",
    "# 2. throw annotation into separate vector matched to point cloud\n",
    "#. "
   ]
  },
  {
   "cell_type": "code",
   "execution_count": 69,
   "metadata": {},
   "outputs": [],
   "source": [
    "# depth coordinate calculation"
   ]
  },
  {
   "cell_type": "code",
   "execution_count": null,
   "metadata": {},
   "outputs": [],
   "source": []
  }
 ],
 "metadata": {
  "kernelspec": {
   "display_name": "Python 3",
   "language": "python",
   "name": "python3"
  },
  "language_info": {
   "codemirror_mode": {
    "name": "ipython",
    "version": 3
   },
   "file_extension": ".py",
   "mimetype": "text/x-python",
   "name": "python",
   "nbconvert_exporter": "python",
   "pygments_lexer": "ipython3",
   "version": "3.7.4"
  }
 },
 "nbformat": 4,
 "nbformat_minor": 2
}
