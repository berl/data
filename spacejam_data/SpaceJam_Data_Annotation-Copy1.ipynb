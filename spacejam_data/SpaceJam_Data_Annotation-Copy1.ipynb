{
 "cells": [
  {
   "cell_type": "code",
   "execution_count": 1,
   "metadata": {},
   "outputs": [
    {
     "data": {
      "text/html": [
       "<style>.container { width:100% !important; }</style>"
      ],
      "text/plain": [
       "<IPython.core.display.HTML object>"
      ]
     },
     "metadata": {},
     "output_type": "display_data"
    }
   ],
   "source": [
    "%gui qt\n",
    "import napari\n",
    "import pandas as pd\n",
    "import numpy as np\n",
    "from IPython.core.display import display, HTML\n",
    "display(HTML(\"<style>.container { width:100% !important; }</style>\"))\n",
    "from shapely.geometry import Polygon, Point"
   ]
  },
  {
   "cell_type": "markdown",
   "metadata": {},
   "source": [
    "## Make a napari viewer..."
   ]
  },
  {
   "cell_type": "code",
   "execution_count": 3,
   "metadata": {},
   "outputs": [],
   "source": [
    "v = napari.Viewer()"
   ]
  },
  {
   "cell_type": "markdown",
   "metadata": {},
   "source": [
    "## Load cell x gene data from 1 dataset"
   ]
  },
  {
   "cell_type": "code",
   "execution_count": 36,
   "metadata": {},
   "outputs": [],
   "source": [
    "all_cells = pd.read_csv(\"/Users/brian/Downloads/1001844875_2_output_dataframe.csv\",skiprows=5)\n",
    "position_array=np.array([[np.float(position.split(' ')[0].strip('[')), np.float(position.split(' ')[1].strip(']'))] for position in all_cells[\"position\"]])\n",
    "all_cells[\"x_um\"] = position_array[:,0]\n",
    "all_cells[\"y_um\"] = position_array[:,1]\n",
    "all_cells.to_csv(\"/Users/brian/Downloads/fixed_1001844875.csv\")"
   ]
  },
  {
   "cell_type": "code",
   "execution_count": 35,
   "metadata": {},
   "outputs": [
    {
     "data": {
      "text/html": [
       "<div>\n",
       "<style scoped>\n",
       "    .dataframe tbody tr th:only-of-type {\n",
       "        vertical-align: middle;\n",
       "    }\n",
       "\n",
       "    .dataframe tbody tr th {\n",
       "        vertical-align: top;\n",
       "    }\n",
       "\n",
       "    .dataframe thead th {\n",
       "        text-align: right;\n",
       "    }\n",
       "</style>\n",
       "<table border=\"1\" class=\"dataframe\">\n",
       "  <thead>\n",
       "    <tr style=\"text-align: right;\">\n",
       "      <th></th>\n",
       "      <th>Unnamed: 0</th>\n",
       "      <th>1700022I11Rik</th>\n",
       "      <th>1810046K07Rik</th>\n",
       "      <th>5031425F14Rik</th>\n",
       "      <th>5730522E02Rik</th>\n",
       "      <th>Acta2</th>\n",
       "      <th>Adam2</th>\n",
       "      <th>Adamts2</th>\n",
       "      <th>Adamts4</th>\n",
       "      <th>Adra1b</th>\n",
       "      <th>...</th>\n",
       "      <th>Vwc2</th>\n",
       "      <th>Wipf3</th>\n",
       "      <th>Wnt7b</th>\n",
       "      <th>Zfp804b</th>\n",
       "      <th>area</th>\n",
       "      <th>position</th>\n",
       "      <th>total_reads</th>\n",
       "      <th>simpleClass</th>\n",
       "      <th>x_um</th>\n",
       "      <th>y_um</th>\n",
       "    </tr>\n",
       "  </thead>\n",
       "  <tbody>\n",
       "    <tr>\n",
       "      <td>0</td>\n",
       "      <td>0</td>\n",
       "      <td>0</td>\n",
       "      <td>0</td>\n",
       "      <td>0</td>\n",
       "      <td>0</td>\n",
       "      <td>0</td>\n",
       "      <td>0</td>\n",
       "      <td>0</td>\n",
       "      <td>0</td>\n",
       "      <td>1</td>\n",
       "      <td>...</td>\n",
       "      <td>1</td>\n",
       "      <td>0</td>\n",
       "      <td>0</td>\n",
       "      <td>0</td>\n",
       "      <td>170.10</td>\n",
       "      <td>[1161.11337076 6178.3830543 ]</td>\n",
       "      <td>870</td>\n",
       "      <td>67</td>\n",
       "      <td>1161.113371</td>\n",
       "      <td>6178.383054</td>\n",
       "    </tr>\n",
       "    <tr>\n",
       "      <td>1</td>\n",
       "      <td>1</td>\n",
       "      <td>0</td>\n",
       "      <td>0</td>\n",
       "      <td>1</td>\n",
       "      <td>1</td>\n",
       "      <td>0</td>\n",
       "      <td>0</td>\n",
       "      <td>0</td>\n",
       "      <td>0</td>\n",
       "      <td>0</td>\n",
       "      <td>...</td>\n",
       "      <td>9</td>\n",
       "      <td>1</td>\n",
       "      <td>0</td>\n",
       "      <td>1</td>\n",
       "      <td>206.55</td>\n",
       "      <td>[1162.91337076 6113.1330543 ]</td>\n",
       "      <td>454</td>\n",
       "      <td>233</td>\n",
       "      <td>1162.913371</td>\n",
       "      <td>6113.133054</td>\n",
       "    </tr>\n",
       "    <tr>\n",
       "      <td>2</td>\n",
       "      <td>2</td>\n",
       "      <td>0</td>\n",
       "      <td>0</td>\n",
       "      <td>0</td>\n",
       "      <td>1</td>\n",
       "      <td>0</td>\n",
       "      <td>0</td>\n",
       "      <td>0</td>\n",
       "      <td>0</td>\n",
       "      <td>0</td>\n",
       "      <td>...</td>\n",
       "      <td>1</td>\n",
       "      <td>2</td>\n",
       "      <td>0</td>\n",
       "      <td>0</td>\n",
       "      <td>184.68</td>\n",
       "      <td>[1168.31337076 6046.0830543 ]</td>\n",
       "      <td>269</td>\n",
       "      <td>97</td>\n",
       "      <td>1168.313371</td>\n",
       "      <td>6046.083054</td>\n",
       "    </tr>\n",
       "    <tr>\n",
       "      <td>3</td>\n",
       "      <td>3</td>\n",
       "      <td>0</td>\n",
       "      <td>0</td>\n",
       "      <td>0</td>\n",
       "      <td>0</td>\n",
       "      <td>2</td>\n",
       "      <td>0</td>\n",
       "      <td>0</td>\n",
       "      <td>0</td>\n",
       "      <td>0</td>\n",
       "      <td>...</td>\n",
       "      <td>3</td>\n",
       "      <td>0</td>\n",
       "      <td>0</td>\n",
       "      <td>0</td>\n",
       "      <td>87.48</td>\n",
       "      <td>[1163.81337076 6202.6830543 ]</td>\n",
       "      <td>340</td>\n",
       "      <td>105</td>\n",
       "      <td>1163.813371</td>\n",
       "      <td>6202.683054</td>\n",
       "    </tr>\n",
       "    <tr>\n",
       "      <td>4</td>\n",
       "      <td>4</td>\n",
       "      <td>0</td>\n",
       "      <td>0</td>\n",
       "      <td>0</td>\n",
       "      <td>1</td>\n",
       "      <td>0</td>\n",
       "      <td>0</td>\n",
       "      <td>0</td>\n",
       "      <td>2</td>\n",
       "      <td>0</td>\n",
       "      <td>...</td>\n",
       "      <td>4</td>\n",
       "      <td>3</td>\n",
       "      <td>0</td>\n",
       "      <td>1</td>\n",
       "      <td>155.52</td>\n",
       "      <td>[1166.96337076 6083.8830543 ]</td>\n",
       "      <td>241</td>\n",
       "      <td>72</td>\n",
       "      <td>1166.963371</td>\n",
       "      <td>6083.883054</td>\n",
       "    </tr>\n",
       "    <tr>\n",
       "      <td>5</td>\n",
       "      <td>5</td>\n",
       "      <td>0</td>\n",
       "      <td>0</td>\n",
       "      <td>0</td>\n",
       "      <td>2</td>\n",
       "      <td>1</td>\n",
       "      <td>0</td>\n",
       "      <td>0</td>\n",
       "      <td>1</td>\n",
       "      <td>0</td>\n",
       "      <td>...</td>\n",
       "      <td>11</td>\n",
       "      <td>3</td>\n",
       "      <td>0</td>\n",
       "      <td>0</td>\n",
       "      <td>233.28</td>\n",
       "      <td>[1171.46337076 6151.3830543 ]</td>\n",
       "      <td>517</td>\n",
       "      <td>225</td>\n",
       "      <td>1171.463371</td>\n",
       "      <td>6151.383054</td>\n",
       "    </tr>\n",
       "    <tr>\n",
       "      <td>6</td>\n",
       "      <td>6</td>\n",
       "      <td>0</td>\n",
       "      <td>0</td>\n",
       "      <td>0</td>\n",
       "      <td>4</td>\n",
       "      <td>2</td>\n",
       "      <td>0</td>\n",
       "      <td>0</td>\n",
       "      <td>0</td>\n",
       "      <td>0</td>\n",
       "      <td>...</td>\n",
       "      <td>7</td>\n",
       "      <td>1</td>\n",
       "      <td>0</td>\n",
       "      <td>0</td>\n",
       "      <td>215.46</td>\n",
       "      <td>[1173.26337076 6206.7330543 ]</td>\n",
       "      <td>429</td>\n",
       "      <td>193</td>\n",
       "      <td>1173.263371</td>\n",
       "      <td>6206.733054</td>\n",
       "    </tr>\n",
       "    <tr>\n",
       "      <td>7</td>\n",
       "      <td>7</td>\n",
       "      <td>0</td>\n",
       "      <td>1</td>\n",
       "      <td>0</td>\n",
       "      <td>2</td>\n",
       "      <td>1</td>\n",
       "      <td>0</td>\n",
       "      <td>0</td>\n",
       "      <td>0</td>\n",
       "      <td>0</td>\n",
       "      <td>...</td>\n",
       "      <td>1</td>\n",
       "      <td>0</td>\n",
       "      <td>0</td>\n",
       "      <td>0</td>\n",
       "      <td>204.12</td>\n",
       "      <td>[1184.06337076 6221.5830543 ]</td>\n",
       "      <td>376</td>\n",
       "      <td>73</td>\n",
       "      <td>1184.063371</td>\n",
       "      <td>6221.583054</td>\n",
       "    </tr>\n",
       "    <tr>\n",
       "      <td>8</td>\n",
       "      <td>8</td>\n",
       "      <td>0</td>\n",
       "      <td>0</td>\n",
       "      <td>0</td>\n",
       "      <td>2</td>\n",
       "      <td>1</td>\n",
       "      <td>0</td>\n",
       "      <td>0</td>\n",
       "      <td>1</td>\n",
       "      <td>0</td>\n",
       "      <td>...</td>\n",
       "      <td>10</td>\n",
       "      <td>1</td>\n",
       "      <td>0</td>\n",
       "      <td>0</td>\n",
       "      <td>320.76</td>\n",
       "      <td>[1193.96337076 6186.4830543 ]</td>\n",
       "      <td>789</td>\n",
       "      <td>227</td>\n",
       "      <td>1193.963371</td>\n",
       "      <td>6186.483054</td>\n",
       "    </tr>\n",
       "    <tr>\n",
       "      <td>9</td>\n",
       "      <td>9</td>\n",
       "      <td>0</td>\n",
       "      <td>0</td>\n",
       "      <td>0</td>\n",
       "      <td>0</td>\n",
       "      <td>0</td>\n",
       "      <td>0</td>\n",
       "      <td>0</td>\n",
       "      <td>1</td>\n",
       "      <td>0</td>\n",
       "      <td>...</td>\n",
       "      <td>2</td>\n",
       "      <td>3</td>\n",
       "      <td>0</td>\n",
       "      <td>0</td>\n",
       "      <td>194.40</td>\n",
       "      <td>[1197.11337076 6076.6830543 ]</td>\n",
       "      <td>162</td>\n",
       "      <td>235</td>\n",
       "      <td>1197.113371</td>\n",
       "      <td>6076.683054</td>\n",
       "    </tr>\n",
       "  </tbody>\n",
       "</table>\n",
       "<p>10 rows × 275 columns</p>\n",
       "</div>"
      ],
      "text/plain": [
       "   Unnamed: 0  1700022I11Rik  1810046K07Rik  5031425F14Rik  5730522E02Rik  \\\n",
       "0           0              0              0              0              0   \n",
       "1           1              0              0              1              1   \n",
       "2           2              0              0              0              1   \n",
       "3           3              0              0              0              0   \n",
       "4           4              0              0              0              1   \n",
       "5           5              0              0              0              2   \n",
       "6           6              0              0              0              4   \n",
       "7           7              0              1              0              2   \n",
       "8           8              0              0              0              2   \n",
       "9           9              0              0              0              0   \n",
       "\n",
       "   Acta2  Adam2  Adamts2  Adamts4  Adra1b  ...  Vwc2  Wipf3  Wnt7b  Zfp804b  \\\n",
       "0      0      0        0        0       1  ...     1      0      0        0   \n",
       "1      0      0        0        0       0  ...     9      1      0        1   \n",
       "2      0      0        0        0       0  ...     1      2      0        0   \n",
       "3      2      0        0        0       0  ...     3      0      0        0   \n",
       "4      0      0        0        2       0  ...     4      3      0        1   \n",
       "5      1      0        0        1       0  ...    11      3      0        0   \n",
       "6      2      0        0        0       0  ...     7      1      0        0   \n",
       "7      1      0        0        0       0  ...     1      0      0        0   \n",
       "8      1      0        0        1       0  ...    10      1      0        0   \n",
       "9      0      0        0        1       0  ...     2      3      0        0   \n",
       "\n",
       "     area                       position  total_reads  simpleClass  \\\n",
       "0  170.10  [1161.11337076 6178.3830543 ]          870           67   \n",
       "1  206.55  [1162.91337076 6113.1330543 ]          454          233   \n",
       "2  184.68  [1168.31337076 6046.0830543 ]          269           97   \n",
       "3   87.48  [1163.81337076 6202.6830543 ]          340          105   \n",
       "4  155.52  [1166.96337076 6083.8830543 ]          241           72   \n",
       "5  233.28  [1171.46337076 6151.3830543 ]          517          225   \n",
       "6  215.46  [1173.26337076 6206.7330543 ]          429          193   \n",
       "7  204.12  [1184.06337076 6221.5830543 ]          376           73   \n",
       "8  320.76  [1193.96337076 6186.4830543 ]          789          227   \n",
       "9  194.40  [1197.11337076 6076.6830543 ]          162          235   \n",
       "\n",
       "          x_um         y_um  \n",
       "0  1161.113371  6178.383054  \n",
       "1  1162.913371  6113.133054  \n",
       "2  1168.313371  6046.083054  \n",
       "3  1163.813371  6202.683054  \n",
       "4  1166.963371  6083.883054  \n",
       "5  1171.463371  6151.383054  \n",
       "6  1173.263371  6206.733054  \n",
       "7  1184.063371  6221.583054  \n",
       "8  1193.963371  6186.483054  \n",
       "9  1197.113371  6076.683054  \n",
       "\n",
       "[10 rows x 275 columns]"
      ]
     },
     "execution_count": 35,
     "metadata": {},
     "output_type": "execute_result"
    }
   ],
   "source": [
    "all_cells.head(10)"
   ]
  },
  {
   "cell_type": "markdown",
   "metadata": {},
   "source": [
    "### Add the cells as points, double-plotting cells with high Rorb, Cux2 if available"
   ]
  },
  {
   "cell_type": "code",
   "execution_count": 33,
   "metadata": {},
   "outputs": [],
   "source": []
  },
  {
   "cell_type": "code",
   "execution_count": 25,
   "metadata": {},
   "outputs": [],
   "source": [
    "cells = v.add_points(np.row_stack([[np.float(position.split(' ')[0].strip('[')), np.float(position.split(' ')[1].strip(']'))] for position in all_cells[\"position\"]]), symbol='o', name = \"all\", opacity = 0.8, blending = \"translucent\")\n",
    "colorlist = [\"magenta\", \"green\",\"yellow\",\"cyan\", \"blue\", \"orange\"]\n",
    "for ii, gene_to_plot in enumerate([\"Cux2\", \"Atp1a3\" , \"Vxn\", \"Pcp4\" , \"Fezf2\" , \"Rorb\" , \"Gm11549\"]):\n",
    "\n",
    "    if gene_to_plot in all_cells:\n",
    "        cux2condition = all_cells[gene_to_plot]>0.5*all_cells[gene_to_plot].median()\n",
    "        cux2cells = v.add_points(cells.data[cux2condition], symbol='disc',\n",
    "                                 name = gene_to_plot+\"+\",edge_color= \"black\", size = 10,\n",
    "                                 face_color= colorlist[ ii % len(colorlist)] , blending = \"translucent\", opacity = 0.3)\n"
   ]
  },
  {
   "cell_type": "markdown",
   "metadata": {},
   "source": [
    "### annotate the layers in that viewer in a single `shapes` layer\n",
    "#### Naming/order Convention:\n",
    "0. outline of entire column as rectangle\n",
    "1. Layer 1\n",
    "1. Layer 2/3\n",
    "2. Layer 4\n",
    "3. Layer 5\n",
    "4. Layer 6\n",
    "5. single line segment, pointing from pia to white matter "
   ]
  },
  {
   "cell_type": "markdown",
   "metadata": {},
   "source": [
    "#### annotate the layer locations in a list"
   ]
  },
  {
   "cell_type": "code",
   "execution_count": 61,
   "metadata": {},
   "outputs": [
    {
     "data": {
      "text/plain": [
       "[<Points layer 'all' at 0x1344a1350>,\n",
       " <Points layer 'Atp1a3+' at 0x131fcc310>,\n",
       " <Points layer 'Vxn+' at 0x13205a4d0>,\n",
       " <Points layer 'Pcp4+' at 0x132189bd0>,\n",
       " <Points layer 'Fezf2+' at 0x12141f850>,\n",
       " <Points layer 'Rorb+' at 0x132010290>,\n",
       " <Shapes layer 'Shapes' at 0x1330ff690>]"
      ]
     },
     "execution_count": 61,
     "metadata": {},
     "output_type": "execute_result"
    }
   ],
   "source": [
    "v.layers"
   ]
  },
  {
   "cell_type": "code",
   "execution_count": 66,
   "metadata": {},
   "outputs": [],
   "source": [
    "is_in_layer = {ii:[Polygon(p).intersects(Point(a))  for a  in v.layers[0].data] for ii,p in enumerate(v.layers[-1].data[:-2])}"
   ]
  },
  {
   "cell_type": "code",
   "execution_count": null,
   "metadata": {},
   "outputs": [],
   "source": [
    "# ok:\n",
    "# 1. make a couple functions to do this\n",
    "#.  #. do a spatially partitioned search based on bounding box of polygon\n",
    "# 2. throw annotation into separate vector matched to point cloud\n",
    "#. "
   ]
  },
  {
   "cell_type": "code",
   "execution_count": 32,
   "metadata": {
    "scrolled": true
   },
   "outputs": [
    {
     "data": {
      "text/plain": [
       "[array([[3445.69646089, 5308.86210502],\n",
       "        [2212.74395809, 7019.7031748 ],\n",
       "        [1452.9011366 , 6278.97589599],\n",
       "        [2284.42724314, 4888.32016609],\n",
       "        [2284.42724314, 4888.32016609]]),\n",
       " array([[3369.23429017, 5318.41987636],\n",
       "        [3307.10877646, 5528.69084583],\n",
       "        [3230.64660575, 5495.23864614],\n",
       "        [3302.32989079, 5304.08321935]]),\n",
       " array([[3201.97329173, 5256.29436266],\n",
       "        [3125.51112101, 5514.35418882],\n",
       "        [2929.57680855, 5882.3283854 ],\n",
       "        [2771.87358145, 6173.84041125],\n",
       "        [2480.3615556 , 6479.68909411],\n",
       "        [2050.26184532, 6823.76886234],\n",
       "        [1935.56858924, 6704.29672059],\n",
       "        [2217.52284376, 6341.10140969],\n",
       "        [2571.16038332, 5810.64510035],\n",
       "        [2910.46126587, 5155.93776359]]),\n",
       " array([[1933.55200983, 6697.04759789],\n",
       "        [2218.17354029, 6345.07288083],\n",
       "        [2576.66630767, 5810.59275492],\n",
       "        [2909.08687378, 5156.61503989],\n",
       "        [2720.06341462, 5095.7799036 ],\n",
       "        [2324.63502878, 5877.94594152],\n",
       "        [1809.70905382, 6579.7226922 ]]),\n",
       " array([[1809.70905382, 6568.85927501],\n",
       "        [1605.47681059, 6375.49044897],\n",
       "        [1787.98221944, 6103.90501914],\n",
       "        [2066.08569958, 5732.37615113],\n",
       "        [2231.20964092, 5484.69023912],\n",
       "        [2407.19699945, 5102.29795392],\n",
       "        [2468.03213573, 5000.1818323 ],\n",
       "        [2722.23609805, 5095.7799036 ],\n",
       "        [2315.94429503, 5888.80935871]]),\n",
       " array([[1607.64949403, 6371.14508209],\n",
       "        [1477.28848771, 6260.33822672],\n",
       "        [1679.3480475 , 5910.5361931 ],\n",
       "        [2089.98521741, 5269.5945787 ],\n",
       "        [2313.77161159, 4950.21011321],\n",
       "        [2342.01649629, 4935.00132914],\n",
       "        [2476.72286949, 4995.83646543],\n",
       "        [2400.67894914, 5119.67942143],\n",
       "        [2265.97257594, 5397.78290158],\n",
       "        [2233.38232436, 5482.51755568],\n",
       "        [2066.08569958, 5736.721518  ]]),\n",
       " array([[2861.28783813, 6301.61921205],\n",
       "        [1857.50808947, 5634.60539639]])]"
      ]
     },
     "execution_count": 32,
     "metadata": {},
     "output_type": "execute_result"
    }
   ],
   "source": [
    "v.layers[-1].data"
   ]
  },
  {
   "cell_type": "code",
   "execution_count": 28,
   "metadata": {},
   "outputs": [],
   "source": [
    "annotations = v.layers[5]"
   ]
  },
  {
   "cell_type": "code",
   "execution_count": 27,
   "metadata": {},
   "outputs": [
    {
     "data": {
      "text/plain": [
       "[<Points layer 'all' at 0x104ac0750>,\n",
       " <Points layer 'all [1]' at 0x12732a890>,\n",
       " <Points layer 'Cux2+' at 0x125db18d0>,\n",
       " <Points layer 'Fezf2+' at 0x127acadd0>,\n",
       " <Points layer 'Rorb+' at 0x127b4bad0>,\n",
       " <Shapes layer 'Shapes' at 0x125f6f310>]"
      ]
     },
     "execution_count": 27,
     "metadata": {},
     "output_type": "execute_result"
    }
   ],
   "source": [
    "v.layers"
   ]
  },
  {
   "cell_type": "code",
   "execution_count": 68,
   "metadata": {},
   "outputs": [
    {
     "data": {
      "text/plain": [
       "<Points layer 'Points' at 0x133fe4390>"
      ]
     },
     "execution_count": 68,
     "metadata": {},
     "output_type": "execute_result"
    }
   ],
   "source": [
    "v.add_points(all_cells[is_in_layer[1]][[\"x\",\"y\"]], symbol='o', size = 30)"
   ]
  },
  {
   "cell_type": "code",
   "execution_count": null,
   "metadata": {},
   "outputs": [],
   "source": []
  },
  {
   "cell_type": "code",
   "execution_count": 28,
   "metadata": {
    "scrolled": true
   },
   "outputs": [
    {
     "name": "stdout",
     "output_type": "stream",
     "text": [
      "[[  322.69221525 10409.33143621]\n",
      " [10023.76221747  4247.2783876 ]\n",
      " [12605.16281892  8285.92126406]\n",
      " [ 3112.27028456 14864.32924839]\n",
      " [ 3112.27028456 14864.32924839]]\n",
      "[[ 3195.5412717  14781.05826125]\n",
      " [  405.9632024  10492.60242336]\n",
      " [ 1696.66350312  9659.89255192]\n",
      " [ 2529.37337456 11533.48976265]\n",
      " [ 3445.35423313 13074.00302481]\n",
      " [ 4194.79311743 14073.25487053]\n",
      " [ 4194.79311743 14073.25487053]]\n",
      "[[ 4278.06410457 13948.34838981]\n",
      " [ 3903.34466242 13573.62894767]\n",
      " [ 2820.82182956 12033.11568551]\n",
      " [ 2196.28942598 10784.05087836]\n",
      " [ 1655.02800955  9618.25705835]\n",
      " [ 4028.25114314  8161.01478334]\n",
      " [ 4611.14805314  9493.35057764]\n",
      " [ 5776.94187315 11491.85426908]\n",
      " [ 6526.38075744 12366.19963409]\n",
      " [ 6526.38075744 12366.19963409]]\n",
      "[[ 6568.01625101 12366.19963409]\n",
      " [ 5860.21286029 11575.12525622]\n",
      " [ 4736.05453386  9659.89255192]\n",
      " [ 3944.98015599  8077.7437962 ]\n",
      " [ 5901.84835387  6911.94997619]\n",
      " [ 7941.98753888  9951.34100692]\n",
      " [ 8649.7909296  10992.22834622]\n",
      " [ 8649.7909296  10992.22834622]]\n",
      "[[ 8691.42642317 10950.59285265]\n",
      " [ 5860.21286029  6787.04349547]\n",
      " [ 8483.24895531  5288.16572689]\n",
      " [11023.01406319  9368.44409692]\n",
      " [11023.01406319  9368.44409692]]\n",
      "[[11023.01406319  9368.44409692]\n",
      " [ 8483.24895531  5246.53023332]\n",
      " [10065.39771104  4205.64289402]\n",
      " [12771.7047932   8369.1922512 ]]\n"
     ]
    }
   ],
   "source": [
    "for ii,p in enumerate(annotations.data):\n",
    "    print(p)"
   ]
  },
  {
   "cell_type": "code",
   "execution_count": 69,
   "metadata": {},
   "outputs": [],
   "source": [
    "# depth coordinate calculation"
   ]
  },
  {
   "cell_type": "code",
   "execution_count": null,
   "metadata": {},
   "outputs": [],
   "source": []
  }
 ],
 "metadata": {
  "kernelspec": {
   "display_name": "Python 3",
   "language": "python",
   "name": "python3"
  },
  "language_info": {
   "codemirror_mode": {
    "name": "ipython",
    "version": 3
   },
   "file_extension": ".py",
   "mimetype": "text/x-python",
   "name": "python",
   "nbconvert_exporter": "python",
   "pygments_lexer": "ipython3",
   "version": "3.7.4"
  }
 },
 "nbformat": 4,
 "nbformat_minor": 2
}
