{
 "cells": [
  {
   "cell_type": "code",
   "execution_count": 1,
   "metadata": {},
   "outputs": [
    {
     "data": {
      "text/html": [
       "<style>.container { width:100% !important; }</style>"
      ],
      "text/plain": [
       "<IPython.core.display.HTML object>"
      ]
     },
     "metadata": {},
     "output_type": "display_data"
    }
   ],
   "source": [
    "%gui qt\n",
    "import napari\n",
    "import pandas as pd\n",
    "import numpy as np\n",
    "from IPython.core.display import display, HTML\n",
    "display(HTML(\"<style>.container { width:100% !important; }</style>\"))\n",
    "from shapely.geometry import Polygon, Point,LineString,  mapping\n"
   ]
  },
  {
   "cell_type": "code",
   "execution_count": 2,
   "metadata": {},
   "outputs": [],
   "source": [
    "import json\n",
    "import geojson\n",
    "from spacetx_spatial_analysis import depth_coordinate"
   ]
  },
  {
   "cell_type": "markdown",
   "metadata": {},
   "source": [
    "## Make a napari viewer..."
   ]
  },
  {
   "cell_type": "code",
   "execution_count": 3,
   "metadata": {},
   "outputs": [],
   "source": [
    "v = napari.Viewer()"
   ]
  },
  {
   "cell_type": "markdown",
   "metadata": {},
   "source": [
    "## Load spot table from 1 dataset"
   ]
  },
  {
   "cell_type": "code",
   "execution_count": null,
   "metadata": {},
   "outputs": [],
   "source": [
    "# load one spotxgene table\n",
    "all_spots = pd.read_csv(\"/Users/brian/Downloads/spaceTX_excitatory_Linnarsson_Lab.csv\")"
   ]
  },
  {
   "cell_type": "code",
   "execution_count": 7,
   "metadata": {},
   "outputs": [],
   "source": [
    "genes = all_spots[\"gene\"].unique()"
   ]
  },
  {
   "cell_type": "code",
   "execution_count": 9,
   "metadata": {},
   "outputs": [
    {
     "data": {
      "text/html": [
       "<div>\n",
       "<style scoped>\n",
       "    .dataframe tbody tr th:only-of-type {\n",
       "        vertical-align: middle;\n",
       "    }\n",
       "\n",
       "    .dataframe tbody tr th {\n",
       "        vertical-align: top;\n",
       "    }\n",
       "\n",
       "    .dataframe thead th {\n",
       "        text-align: right;\n",
       "    }\n",
       "</style>\n",
       "<table border=\"1\" class=\"dataframe\">\n",
       "  <thead>\n",
       "    <tr style=\"text-align: right;\">\n",
       "      <th></th>\n",
       "      <th>gene</th>\n",
       "      <th>round_num</th>\n",
       "      <th>dot_id</th>\n",
       "      <th>r_px</th>\n",
       "      <th>c_px</th>\n",
       "      <th>r_um</th>\n",
       "      <th>c_um</th>\n",
       "    </tr>\n",
       "  </thead>\n",
       "  <tbody>\n",
       "    <tr>\n",
       "      <td>0</td>\n",
       "      <td>Atp2b4</td>\n",
       "      <td>7</td>\n",
       "      <td>0_0</td>\n",
       "      <td>21497.072445</td>\n",
       "      <td>8137.101776</td>\n",
       "      <td>2325.774584</td>\n",
       "      <td>880.355432</td>\n",
       "    </tr>\n",
       "    <tr>\n",
       "      <td>1</td>\n",
       "      <td>Atp2b4</td>\n",
       "      <td>7</td>\n",
       "      <td>0_2</td>\n",
       "      <td>21491.072445</td>\n",
       "      <td>8194.101776</td>\n",
       "      <td>2325.125442</td>\n",
       "      <td>886.522279</td>\n",
       "    </tr>\n",
       "    <tr>\n",
       "      <td>2</td>\n",
       "      <td>Atp2b4</td>\n",
       "      <td>7</td>\n",
       "      <td>0_4</td>\n",
       "      <td>21484.072445</td>\n",
       "      <td>8168.101776</td>\n",
       "      <td>2324.368110</td>\n",
       "      <td>883.709331</td>\n",
       "    </tr>\n",
       "    <tr>\n",
       "      <td>3</td>\n",
       "      <td>Atp2b4</td>\n",
       "      <td>7</td>\n",
       "      <td>0_5</td>\n",
       "      <td>21482.072445</td>\n",
       "      <td>8199.101776</td>\n",
       "      <td>2324.151729</td>\n",
       "      <td>887.063230</td>\n",
       "    </tr>\n",
       "    <tr>\n",
       "      <td>4</td>\n",
       "      <td>Atp2b4</td>\n",
       "      <td>7</td>\n",
       "      <td>0_6</td>\n",
       "      <td>21481.072445</td>\n",
       "      <td>8191.101776</td>\n",
       "      <td>2324.043539</td>\n",
       "      <td>886.197708</td>\n",
       "    </tr>\n",
       "    <tr>\n",
       "      <td>...</td>\n",
       "      <td>...</td>\n",
       "      <td>...</td>\n",
       "      <td>...</td>\n",
       "      <td>...</td>\n",
       "      <td>...</td>\n",
       "      <td>...</td>\n",
       "      <td>...</td>\n",
       "    </tr>\n",
       "    <tr>\n",
       "      <td>1543502</td>\n",
       "      <td>Zfp827</td>\n",
       "      <td>3</td>\n",
       "      <td>95_1063</td>\n",
       "      <td>60.201154</td>\n",
       "      <td>26161.498175</td>\n",
       "      <td>6.513181</td>\n",
       "      <td>2830.420174</td>\n",
       "    </tr>\n",
       "    <tr>\n",
       "      <td>1543503</td>\n",
       "      <td>Zfp827</td>\n",
       "      <td>3</td>\n",
       "      <td>95_1066</td>\n",
       "      <td>50.201154</td>\n",
       "      <td>26147.498175</td>\n",
       "      <td>5.431278</td>\n",
       "      <td>2828.905510</td>\n",
       "    </tr>\n",
       "    <tr>\n",
       "      <td>1543504</td>\n",
       "      <td>Zfp827</td>\n",
       "      <td>3</td>\n",
       "      <td>95_1068</td>\n",
       "      <td>36.201154</td>\n",
       "      <td>26849.498175</td>\n",
       "      <td>3.916614</td>\n",
       "      <td>2904.855096</td>\n",
       "    </tr>\n",
       "    <tr>\n",
       "      <td>1543505</td>\n",
       "      <td>Zfp827</td>\n",
       "      <td>3</td>\n",
       "      <td>95_1076</td>\n",
       "      <td>16.201154</td>\n",
       "      <td>25931.498175</td>\n",
       "      <td>1.752808</td>\n",
       "      <td>2805.536406</td>\n",
       "    </tr>\n",
       "    <tr>\n",
       "      <td>1543506</td>\n",
       "      <td>Zfp827</td>\n",
       "      <td>3</td>\n",
       "      <td>95_1078</td>\n",
       "      <td>14.201154</td>\n",
       "      <td>26525.498175</td>\n",
       "      <td>1.536427</td>\n",
       "      <td>2869.801441</td>\n",
       "    </tr>\n",
       "  </tbody>\n",
       "</table>\n",
       "<p>1543507 rows × 7 columns</p>\n",
       "</div>"
      ],
      "text/plain": [
       "           gene  round_num   dot_id          r_px          c_px         r_um  \\\n",
       "0        Atp2b4          7      0_0  21497.072445   8137.101776  2325.774584   \n",
       "1        Atp2b4          7      0_2  21491.072445   8194.101776  2325.125442   \n",
       "2        Atp2b4          7      0_4  21484.072445   8168.101776  2324.368110   \n",
       "3        Atp2b4          7      0_5  21482.072445   8199.101776  2324.151729   \n",
       "4        Atp2b4          7      0_6  21481.072445   8191.101776  2324.043539   \n",
       "...         ...        ...      ...           ...           ...          ...   \n",
       "1543502  Zfp827          3  95_1063     60.201154  26161.498175     6.513181   \n",
       "1543503  Zfp827          3  95_1066     50.201154  26147.498175     5.431278   \n",
       "1543504  Zfp827          3  95_1068     36.201154  26849.498175     3.916614   \n",
       "1543505  Zfp827          3  95_1076     16.201154  25931.498175     1.752808   \n",
       "1543506  Zfp827          3  95_1078     14.201154  26525.498175     1.536427   \n",
       "\n",
       "                c_um  \n",
       "0         880.355432  \n",
       "1         886.522279  \n",
       "2         883.709331  \n",
       "3         887.063230  \n",
       "4         886.197708  \n",
       "...              ...  \n",
       "1543502  2830.420174  \n",
       "1543503  2828.905510  \n",
       "1543504  2904.855096  \n",
       "1543505  2805.536406  \n",
       "1543506  2869.801441  \n",
       "\n",
       "[1543507 rows x 7 columns]"
      ]
     },
     "execution_count": 9,
     "metadata": {},
     "output_type": "execute_result"
    }
   ],
   "source": [
    "all_spots"
   ]
  },
  {
   "cell_type": "code",
   "execution_count": 8,
   "metadata": {},
   "outputs": [],
   "source": [
    "subsample = 1 # change to >1 if number of points is too high\n",
    "colorlist = [\"magenta\", \"red\",\"blue\",\"cyan\", \"green\", \"orange\",\"red\"]\n"
   ]
  },
  {
   "cell_type": "code",
   "execution_count": 10,
   "metadata": {},
   "outputs": [],
   "source": [
    "cindex = 0\n",
    "for ii, gene_to_plot in enumerate([\"Gad1\",\"Gad2\",\"Slc17a7\",\"Cux2\",\"Calb1\",\"Meis2\",\"Foxp2\", \"Atp1a3\" , \"Vxn\", \"Pcp4\" , \"Fezf2\" , \"Rorb\" , \"Gm11549\"]):\n",
    "\n",
    "    if gene_to_plot in genes:\n",
    "        if gene_to_plot == \"Slc17a7\":\n",
    "            spots = v.add_points(all_spots[all_spots[\"gene\"]==gene_to_plot][[\"r_um\",\"c_um\"]].values[::subsample,:], symbol='disc',\n",
    "                                 name = gene_to_plot+\"+\",edge_color= [0,0,0,0], size = 1.5,\n",
    "                                 face_color= colorlist[ cindex % len(colorlist)] , blending = \"translucent\", opacity = 0.8)\n",
    "        else:\n",
    "            spots = v.add_points(all_spots[all_spots[\"gene\"]==gene_to_plot][[\"r_um\",\"c_um\"]].values[::subsample,:], symbol='disc',\n",
    "                     name = gene_to_plot+\"+\",edge_color= [0,0,0,0], size = 2.,\n",
    "                     face_color= colorlist[ cindex % len(colorlist)] , blending = \"translucent\", opacity = 0.7)\n",
    "        cindex = cindex + 1\n",
    "    if gene_to_plot.lower() in genes:\n",
    "        \n",
    "        if gene_to_plot == \"Slc17a7\":\n",
    "            spots = v.add_points(all_spots[all_spots[\"gene\"]==gene_to_plot.lower()][[\"r_um\",\"c_um\"]].values[::subsample,:], symbol='disc',\n",
    "                                 name = gene_to_plot+\"+\",edge_color= [0,0,0,0], size = 1.5,\n",
    "                                 face_color= colorlist[ cindex % len(colorlist)] , blending = \"translucent\", opacity = 0.8)\n",
    "        else:\n",
    "            spots = v.add_points(all_spots[all_spots[\"gene\"]==gene_to_plot.lower()][[\"r_um\",\"c_um\"]].values[::subsample,:], symbol='disc',\n",
    "                     name = gene_to_plot+\"+\",edge_color= [0,0,0,0], size = 2.,\n",
    "                     face_color= colorlist[ cindex % len(colorlist)] , blending = \"translucent\", opacity = 0.7)\n",
    "        cindex = cindex + 1"
   ]
  },
  {
   "cell_type": "code",
   "execution_count": 16,
   "metadata": {},
   "outputs": [
    {
     "data": {
      "text/plain": [
       "[<Points layer 'Gad1+' at 0x10c9bd1d0>,\n",
       " <Points layer 'Gad2+' at 0x12ddec950>,\n",
       " <Points layer 'Slc17a7+' at 0x137967290>,\n",
       " <Points layer 'Cux2+' at 0x12e609090>,\n",
       " <Points layer 'Calb1+' at 0x12e44e150>,\n",
       " <Points layer 'Meis2+' at 0x12db0b710>,\n",
       " <Points layer 'Foxp2+' at 0x134432f90>,\n",
       " <Points layer 'Fezf2+' at 0x134432a90>,\n",
       " <Points layer 'Rorb+' at 0x13c7b22d0>,\n",
       " <Shapes layer 'Shapes' at 0x1377163d0>]"
      ]
     },
     "execution_count": 16,
     "metadata": {},
     "output_type": "execute_result"
    }
   ],
   "source": [
    "v.layers"
   ]
  },
  {
   "cell_type": "markdown",
   "metadata": {},
   "source": [
    "### annotate the layers in that viewer in a single `shapes` layer\n",
    "#### Naming/order Convention:\n",
    "0. outline of entire area\n",
    "1. Layer 1\n",
    "1. Layer 2/3\n",
    "2. Layer 4\n",
    "3. Layer 5\n",
    "4. Layer 6\n",
    "5. white matter\n",
    "6. single line segment, pointing from pia to white matter "
   ]
  },
  {
   "cell_type": "markdown",
   "metadata": {},
   "source": [
    "#### annotate the layer locations in a list"
   ]
  },
  {
   "cell_type": "code",
   "execution_count": 9,
   "metadata": {},
   "outputs": [],
   "source": [
    "shapes_layer = v.layers[-1].data[:-1]\n",
    "column_points = v.layers[-1].data[-1]"
   ]
  },
  {
   "cell_type": "code",
   "execution_count": 15,
   "metadata": {},
   "outputs": [
    {
     "name": "stdout",
     "output_type": "stream",
     "text": [
      "8 annotations\n"
     ]
    }
   ],
   "source": [
    "if len(v.layers[-1].data) != 8:\n",
    "    print(\"please annotate the 7 polygons and 1 line segment described above\")\n",
    "else:\n",
    "    print(\"8 annotations\")"
   ]
  },
  {
   "cell_type": "code",
   "execution_count": 73,
   "metadata": {},
   "outputs": [],
   "source": [
    "# go get all the plotted points and note if they're in the annotated polygons\n",
    "is_in_layer = {ii:[Polygon(p).intersects(Point(a))  for a  in all_spots[[\"x_um\",\"y_um\"]].values] for ii,p in enumerate(shapes_layer)}"
   ]
  },
  {
   "cell_type": "code",
   "execution_count": 76,
   "metadata": {},
   "outputs": [],
   "source": [
    "all_spots[\"layer\"] = \"outside_VISp\"\n",
    "for k in is_in_layer.keys():\n",
    "    all_spots.loc[is_in_layer[k],[\"layer\"]] = annotation_names[k]\n"
   ]
  },
  {
   "cell_type": "code",
   "execution_count": 78,
   "metadata": {},
   "outputs": [
    {
     "data": {
      "text/plain": [
       "array(['outside_VISp', 'VISp_wm', 'VISp_VI', 'VISp_V', 'VISp', 'VISp_IV',\n",
       "       'VISp_II/III', 'VISp_I'], dtype=object)"
      ]
     },
     "execution_count": 78,
     "metadata": {},
     "output_type": "execute_result"
    }
   ],
   "source": [
    "all_spots[\"layer\"].unique()"
   ]
  },
  {
   "cell_type": "code",
   "execution_count": 20,
   "metadata": {},
   "outputs": [],
   "source": [
    "# now the spots have depth coordinates, which will be useful for detected spots v. column depth\n",
    "all_spots[\"depth_um\"] = depth_coordinate(all_spots[[\"x_um\",\"y_um\"]].values, column_points)"
   ]
  },
  {
   "cell_type": "code",
   "execution_count": 79,
   "metadata": {},
   "outputs": [
    {
     "data": {
      "text/html": [
       "<div>\n",
       "<style scoped>\n",
       "    .dataframe tbody tr th:only-of-type {\n",
       "        vertical-align: middle;\n",
       "    }\n",
       "\n",
       "    .dataframe tbody tr th {\n",
       "        vertical-align: top;\n",
       "    }\n",
       "\n",
       "    .dataframe thead th {\n",
       "        text-align: right;\n",
       "    }\n",
       "</style>\n",
       "<table border=\"1\" class=\"dataframe\">\n",
       "  <thead>\n",
       "    <tr style=\"text-align: right;\">\n",
       "      <th></th>\n",
       "      <th>Unnamed: 0</th>\n",
       "      <th>x_um</th>\n",
       "      <th>y_um</th>\n",
       "      <th>gene</th>\n",
       "      <th>depth_um</th>\n",
       "      <th>layer</th>\n",
       "    </tr>\n",
       "  </thead>\n",
       "  <tbody>\n",
       "    <tr>\n",
       "      <td>0</td>\n",
       "      <td>0</td>\n",
       "      <td>1278.683956</td>\n",
       "      <td>6020.642260</td>\n",
       "      <td>Gad2</td>\n",
       "      <td>1445.701599</td>\n",
       "      <td>outside_VISp</td>\n",
       "    </tr>\n",
       "    <tr>\n",
       "      <td>1</td>\n",
       "      <td>1</td>\n",
       "      <td>1326.970330</td>\n",
       "      <td>6023.884788</td>\n",
       "      <td>Gad2</td>\n",
       "      <td>1403.168094</td>\n",
       "      <td>outside_VISp</td>\n",
       "    </tr>\n",
       "    <tr>\n",
       "      <td>2</td>\n",
       "      <td>2</td>\n",
       "      <td>1292.026844</td>\n",
       "      <td>6059.337093</td>\n",
       "      <td>Gad2</td>\n",
       "      <td>1413.731426</td>\n",
       "      <td>outside_VISp</td>\n",
       "    </tr>\n",
       "    <tr>\n",
       "      <td>3</td>\n",
       "      <td>3</td>\n",
       "      <td>1300.886241</td>\n",
       "      <td>6097.786264</td>\n",
       "      <td>Gad2</td>\n",
       "      <td>1385.680938</td>\n",
       "      <td>outside_VISp</td>\n",
       "    </tr>\n",
       "    <tr>\n",
       "      <td>4</td>\n",
       "      <td>4</td>\n",
       "      <td>1232.410068</td>\n",
       "      <td>6102.884182</td>\n",
       "      <td>Gad2</td>\n",
       "      <td>1440.812721</td>\n",
       "      <td>outside_VISp</td>\n",
       "    </tr>\n",
       "    <tr>\n",
       "      <td>...</td>\n",
       "      <td>...</td>\n",
       "      <td>...</td>\n",
       "      <td>...</td>\n",
       "      <td>...</td>\n",
       "      <td>...</td>\n",
       "      <td>...</td>\n",
       "    </tr>\n",
       "    <tr>\n",
       "      <td>3841407</td>\n",
       "      <td>3841407</td>\n",
       "      <td>3161.427603</td>\n",
       "      <td>5192.594981</td>\n",
       "      <td>Mup5</td>\n",
       "      <td>297.777986</td>\n",
       "      <td>outside_VISp</td>\n",
       "    </tr>\n",
       "    <tr>\n",
       "      <td>3841408</td>\n",
       "      <td>3841408</td>\n",
       "      <td>3099.698528</td>\n",
       "      <td>5221.596008</td>\n",
       "      <td>Mup5</td>\n",
       "      <td>334.424115</td>\n",
       "      <td>outside_VISp</td>\n",
       "    </tr>\n",
       "    <tr>\n",
       "      <td>3841409</td>\n",
       "      <td>3841409</td>\n",
       "      <td>3084.582240</td>\n",
       "      <td>5297.234605</td>\n",
       "      <td>Mup5</td>\n",
       "      <td>306.740686</td>\n",
       "      <td>outside_VISp</td>\n",
       "    </tr>\n",
       "    <tr>\n",
       "      <td>3841410</td>\n",
       "      <td>3841410</td>\n",
       "      <td>3054.192051</td>\n",
       "      <td>5342.142346</td>\n",
       "      <td>Mup5</td>\n",
       "      <td>308.399438</td>\n",
       "      <td>VISp_II/III</td>\n",
       "    </tr>\n",
       "    <tr>\n",
       "      <td>3841411</td>\n",
       "      <td>3841411</td>\n",
       "      <td>3058.963217</td>\n",
       "      <td>5348.150185</td>\n",
       "      <td>Mup5</td>\n",
       "      <td>301.154743</td>\n",
       "      <td>VISp_II/III</td>\n",
       "    </tr>\n",
       "  </tbody>\n",
       "</table>\n",
       "<p>3841412 rows × 6 columns</p>\n",
       "</div>"
      ],
      "text/plain": [
       "         Unnamed: 0         x_um         y_um  gene     depth_um         layer\n",
       "0                 0  1278.683956  6020.642260  Gad2  1445.701599  outside_VISp\n",
       "1                 1  1326.970330  6023.884788  Gad2  1403.168094  outside_VISp\n",
       "2                 2  1292.026844  6059.337093  Gad2  1413.731426  outside_VISp\n",
       "3                 3  1300.886241  6097.786264  Gad2  1385.680938  outside_VISp\n",
       "4                 4  1232.410068  6102.884182  Gad2  1440.812721  outside_VISp\n",
       "...             ...          ...          ...   ...          ...           ...\n",
       "3841407     3841407  3161.427603  5192.594981  Mup5   297.777986  outside_VISp\n",
       "3841408     3841408  3099.698528  5221.596008  Mup5   334.424115  outside_VISp\n",
       "3841409     3841409  3084.582240  5297.234605  Mup5   306.740686  outside_VISp\n",
       "3841410     3841410  3054.192051  5342.142346  Mup5   308.399438   VISp_II/III\n",
       "3841411     3841411  3058.963217  5348.150185  Mup5   301.154743   VISp_II/III\n",
       "\n",
       "[3841412 rows x 6 columns]"
      ]
     },
     "execution_count": 79,
     "metadata": {},
     "output_type": "execute_result"
    }
   ],
   "source": [
    "all_spots"
   ]
  },
  {
   "cell_type": "code",
   "execution_count": 80,
   "metadata": {},
   "outputs": [],
   "source": [
    "all_spots.to_csv(\"Allen_MERFISH_spots_with_anatomy.csv\")"
   ]
  },
  {
   "cell_type": "code",
   "execution_count": 61,
   "metadata": {},
   "outputs": [],
   "source": [
    "annotation_names = [\"VISp\", \"VISp_I\", \"VISp_II/III\", \"VISp_IV\", \"VISp_V\",\"VISp_VI\", \"VISp_wm\", \"column_axis\"]\n"
   ]
  },
  {
   "cell_type": "code",
   "execution_count": 63,
   "metadata": {},
   "outputs": [],
   "source": [
    "annotations = [mapping(Polygon(p))  for ii,p in enumerate(shapes_layer)]\n",
    "annotations.append(mapping(LineString(column_points)))\n",
    "for ii,ai in enumerate(annotations):\n",
    "    ai[\"name\"] = annotation_names[ii]"
   ]
  },
  {
   "cell_type": "code",
   "execution_count": 65,
   "metadata": {
    "scrolled": true
   },
   "outputs": [],
   "source": [
    "a = geojson.GeometryCollection(annotations)"
   ]
  },
  {
   "cell_type": "code",
   "execution_count": 66,
   "metadata": {},
   "outputs": [],
   "source": [
    "with open(\"Allen_MERFISH_annotations_geo.json\",'w') as w:\n",
    "    geojson.dump(a,w)"
   ]
  },
  {
   "cell_type": "code",
   "execution_count": 7,
   "metadata": {},
   "outputs": [],
   "source": [
    "with open(\"/Users/brian/work/data/stardist_rois.json\",'r') as r:\n",
    "    shapejson = geojson.load(r)"
   ]
  },
  {
   "cell_type": "code",
   "execution_count": 54,
   "metadata": {},
   "outputs": [],
   "source": [
    "shapes_to_add = [0.1078*4.*np.array(geo[\"coordinates\"][0][::5]) for geo in shapejson[\"geometries\"]]\n",
    "for f in shapes_to_add:\n",
    "    f[:,0] = f[:,0]+1154\n",
    "    f[:,1] = f[:,1]+4548  #6237"
   ]
  },
  {
   "cell_type": "code",
   "execution_count": 60,
   "metadata": {},
   "outputs": [],
   "source": [
    "import imageio"
   ]
  },
  {
   "cell_type": "code",
   "execution_count": 62,
   "metadata": {},
   "outputs": [],
   "source": [
    "egdapi = imageio.imread(\"/Users/brian/work/mFISH__002_DAPI_Overview-ds.tif\")"
   ]
  },
  {
   "cell_type": "code",
   "execution_count": 59,
   "metadata": {},
   "outputs": [
    {
     "name": "stdout",
     "output_type": "stream",
     "text": [
      "1154.178830748657\n",
      "4548.423661719319\n"
     ]
    }
   ],
   "source": [
    "print(10706.668188763051*0.1078)\n",
    "print(44241.16940370426*0.1078 - 2048*.1078)"
   ]
  },
  {
   "cell_type": "code",
   "execution_count": 65,
   "metadata": {},
   "outputs": [
    {
     "data": {
      "text/plain": [
       "<Image layer 'Image [1]' at 0x15e81d350>"
      ]
     },
     "execution_count": 65,
     "metadata": {},
     "output_type": "execute_result"
    }
   ],
   "source": [
    "v.add_image(egdapi.T, scale = [4.0*0.1078, 4.0*0.1078], translate = [1154, 4548])"
   ]
  },
  {
   "cell_type": "code",
   "execution_count": 55,
   "metadata": {},
   "outputs": [
    {
     "data": {
      "text/plain": [
       "<Shapes layer 'shapesjhjh' at 0x158d7d090>"
      ]
     },
     "execution_count": 55,
     "metadata": {},
     "output_type": "execute_result"
    }
   ],
   "source": [
    "v.add_shapes(shapes_to_add ,\n",
    "        shape_type='polygon',\n",
    "        edge_width=1,\n",
    "        edge_color='coral',\n",
    "        face_color='royalblue',\n",
    "        name='shapesjhjh')"
   ]
  },
  {
   "cell_type": "code",
   "execution_count": 18,
   "metadata": {},
   "outputs": [
    {
     "data": {
      "text/plain": [
       "array([[1700., 1288.],\n",
       "       [1699., 1290.],\n",
       "       [1699., 1292.],\n",
       "       [1697., 1294.],\n",
       "       [1696., 1295.],\n",
       "       [1694., 1296.],\n",
       "       [1692., 1297.],\n",
       "       [1690., 1298.],\n",
       "       [1688., 1298.],\n",
       "       [1686., 1298.],\n",
       "       [1684., 1298.],\n",
       "       [1682., 1297.],\n",
       "       [1681., 1295.],\n",
       "       [1679., 1294.],\n",
       "       [1678., 1292.],\n",
       "       [1677., 1290.],\n",
       "       [1676., 1288.],\n",
       "       [1676., 1285.],\n",
       "       [1676., 1283.],\n",
       "       [1677., 1280.],\n",
       "       [1679., 1279.],\n",
       "       [1682., 1278.],\n",
       "       [1684., 1277.],\n",
       "       [1686., 1277.],\n",
       "       [1688., 1277.],\n",
       "       [1690., 1278.],\n",
       "       [1692., 1278.],\n",
       "       [1694., 1279.],\n",
       "       [1696., 1280.],\n",
       "       [1698., 1282.],\n",
       "       [1699., 1283.],\n",
       "       [1699., 1286.],\n",
       "       [1700., 1288.]])"
      ]
     },
     "execution_count": 18,
     "metadata": {},
     "output_type": "execute_result"
    }
   ],
   "source": [
    "shapes_to_add[33]"
   ]
  },
  {
   "cell_type": "code",
   "execution_count": null,
   "metadata": {},
   "outputs": [],
   "source": []
  },
  {
   "cell_type": "code",
   "execution_count": 38,
   "metadata": {},
   "outputs": [
    {
     "data": {
      "text/plain": [
       "1.0815"
      ]
     },
     "execution_count": 38,
     "metadata": {},
     "output_type": "execute_result"
    }
   ],
   "source": [
    "1.03*63./60."
   ]
  },
  {
   "cell_type": "code",
   "execution_count": 37,
   "metadata": {},
   "outputs": [
    {
     "data": {
      "text/plain": [
       "0.031323414252153486"
      ]
     },
     "execution_count": 37,
     "metadata": {},
     "output_type": "execute_result"
    }
   ],
   "source": [
    "40/(6660-5383)"
   ]
  },
  {
   "cell_type": "code",
   "execution_count": 41,
   "metadata": {},
   "outputs": [
    {
     "data": {
      "text/plain": [
       "43"
      ]
     },
     "execution_count": 41,
     "metadata": {},
     "output_type": "execute_result"
    }
   ],
   "source": [
    "1888-1845"
   ]
  },
  {
   "cell_type": "code",
   "execution_count": 42,
   "metadata": {},
   "outputs": [
    {
     "data": {
      "text/plain": [
       "28"
      ]
     },
     "execution_count": 42,
     "metadata": {},
     "output_type": "execute_result"
    }
   ],
   "source": [
    "30"
   ]
  },
  {
   "cell_type": "code",
   "execution_count": 43,
   "metadata": {},
   "outputs": [
    {
     "data": {
      "text/plain": [
       "31"
      ]
     },
     "execution_count": 43,
     "metadata": {},
     "output_type": "execute_result"
    }
   ],
   "source": [
    "1817-1786"
   ]
  },
  {
   "cell_type": "code",
   "execution_count": 44,
   "metadata": {},
   "outputs": [
    {
     "data": {
      "text/plain": [
       "21"
      ]
     },
     "execution_count": 44,
     "metadata": {},
     "output_type": "execute_result"
    }
   ],
   "source": [
    "77-56"
   ]
  },
  {
   "cell_type": "code",
   "execution_count": null,
   "metadata": {},
   "outputs": [],
   "source": []
  }
 ],
 "metadata": {
  "kernelspec": {
   "display_name": "Python 3",
   "language": "python",
   "name": "python3"
  },
  "language_info": {
   "codemirror_mode": {
    "name": "ipython",
    "version": 3
   },
   "file_extension": ".py",
   "mimetype": "text/x-python",
   "name": "python",
   "nbconvert_exporter": "python",
   "pygments_lexer": "ipython3",
   "version": "3.7.4"
  }
 },
 "nbformat": 4,
 "nbformat_minor": 2
}
