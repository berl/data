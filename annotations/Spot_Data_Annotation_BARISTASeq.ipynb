{
 "cells": [
  {
   "cell_type": "code",
   "execution_count": 1,
   "metadata": {},
   "outputs": [
    {
     "data": {
      "text/html": [
       "<style>.container { width:100% !important; }</style>"
      ],
      "text/plain": [
       "<IPython.core.display.HTML object>"
      ]
     },
     "metadata": {},
     "output_type": "display_data"
    }
   ],
   "source": [
    "%gui qt\n",
    "import napari\n",
    "import pandas as pd\n",
    "import numpy as np\n",
    "from IPython.core.display import display, HTML\n",
    "display(HTML(\"<style>.container { width:100% !important; }</style>\"))\n",
    "from shapely.geometry import Polygon, Point,LineString,  mapping\n"
   ]
  },
  {
   "cell_type": "code",
   "execution_count": 2,
   "metadata": {},
   "outputs": [],
   "source": [
    "import json\n",
    "import geojson\n",
    "import pathlib\n",
    "from spacetx_spatial_analysis import depth_coordinate\n",
    "import boto3\n"
   ]
  },
  {
   "cell_type": "markdown",
   "metadata": {},
   "source": [
    "## Make a napari viewer..."
   ]
  },
  {
   "cell_type": "code",
   "execution_count": 3,
   "metadata": {},
   "outputs": [],
   "source": [
    "v = napari.Viewer()"
   ]
  },
  {
   "cell_type": "markdown",
   "metadata": {},
   "source": [
    "## Load spot table from 1 dataset"
   ]
  },
  {
   "cell_type": "code",
   "execution_count": 4,
   "metadata": {},
   "outputs": [],
   "source": [
    "s3_resource = boto3.resource('s3')"
   ]
  },
  {
   "cell_type": "code",
   "execution_count": 22,
   "metadata": {},
   "outputs": [],
   "source": [
    "cwd = pathlib.Path.cwd()"
   ]
  },
  {
   "cell_type": "code",
   "execution_count": 25,
   "metadata": {},
   "outputs": [],
   "source": [
    "localdir = cwd.joinpath(\"local_data\")"
   ]
  },
  {
   "cell_type": "code",
   "execution_count": 26,
   "metadata": {},
   "outputs": [
    {
     "name": "stdout",
     "output_type": "stream",
     "text": [
      "/Users/brian/local_data/spacejam2/BARISTASEQ\n"
     ]
    }
   ],
   "source": [
    "spot_fname = \"spacejam2/BARISTASEQ/all_spots_2.csv\"\n",
    "local_file = localdir.joinpath(spot_fname)\n",
    "local_file.parent.mkdir( parents = True, exist_ok = True)\n",
    "print(local_file.parent)"
   ]
  },
  {
   "cell_type": "code",
   "execution_count": 27,
   "metadata": {},
   "outputs": [],
   "source": [
    "s3_resource.Object(\"starfish.data.spacetx\", spot_fname).download_file(str(local_file))"
   ]
  },
  {
   "cell_type": "code",
   "execution_count": 54,
   "metadata": {},
   "outputs": [
    {
     "name": "stdout",
     "output_type": "stream",
     "text": [
      "/Users/brian/local_data/spacejam2/BARISTASEQ\n"
     ]
    }
   ],
   "source": [
    "# also download the cell x gene table for later\n",
    "cell_fname = \"spacejam2/BARISTASEQ/cellxgene2.csv\"\n",
    "local_cell_file = localdir.joinpath(cell_fname)\n",
    "local_cell_file.parent.mkdir( parents = True, exist_ok = True)\n",
    "print(local_cell_file.parent)\n",
    "s3_resource.Object(\"starfish.data.spacetx\", cell_fname).download_file(str(local_cell_file))"
   ]
  },
  {
   "cell_type": "code",
   "execution_count": 28,
   "metadata": {},
   "outputs": [
    {
     "data": {
      "text/html": [
       "<div>\n",
       "<style scoped>\n",
       "    .dataframe tbody tr th:only-of-type {\n",
       "        vertical-align: middle;\n",
       "    }\n",
       "\n",
       "    .dataframe tbody tr th {\n",
       "        vertical-align: top;\n",
       "    }\n",
       "\n",
       "    .dataframe thead th {\n",
       "        text-align: right;\n",
       "    }\n",
       "</style>\n",
       "<table border=\"1\" class=\"dataframe\">\n",
       "  <thead>\n",
       "    <tr style=\"text-align: right;\">\n",
       "      <th></th>\n",
       "      <th>Unnamed: 0</th>\n",
       "      <th>Gene ID</th>\n",
       "      <th>Cell ID</th>\n",
       "      <th>x</th>\n",
       "      <th>y</th>\n",
       "      <th>x(tile)</th>\n",
       "      <th>y(tile)</th>\n",
       "      <th>Dist to pia</th>\n",
       "      <th>Dist to bottom</th>\n",
       "      <th>angle</th>\n",
       "      <th>target</th>\n",
       "    </tr>\n",
       "  </thead>\n",
       "  <tbody>\n",
       "    <tr>\n",
       "      <td>0</td>\n",
       "      <td>0</td>\n",
       "      <td>52</td>\n",
       "      <td>10027</td>\n",
       "      <td>1172.440</td>\n",
       "      <td>1158.560</td>\n",
       "      <td>103</td>\n",
       "      <td>310</td>\n",
       "      <td>810.111</td>\n",
       "      <td>448.925</td>\n",
       "      <td>172.287</td>\n",
       "      <td>Npy</td>\n",
       "    </tr>\n",
       "    <tr>\n",
       "      <td>1</td>\n",
       "      <td>1</td>\n",
       "      <td>17</td>\n",
       "      <td>10087</td>\n",
       "      <td>1172.440</td>\n",
       "      <td>1250.370</td>\n",
       "      <td>103</td>\n",
       "      <td>875</td>\n",
       "      <td>757.449</td>\n",
       "      <td>514.318</td>\n",
       "      <td>166.784</td>\n",
       "      <td>Deptor</td>\n",
       "    </tr>\n",
       "    <tr>\n",
       "      <td>2</td>\n",
       "      <td>2</td>\n",
       "      <td>61</td>\n",
       "      <td>10127</td>\n",
       "      <td>1172.440</td>\n",
       "      <td>1334.550</td>\n",
       "      <td>103</td>\n",
       "      <td>1393</td>\n",
       "      <td>716.143</td>\n",
       "      <td>575.620</td>\n",
       "      <td>157.153</td>\n",
       "      <td>Gm11549</td>\n",
       "    </tr>\n",
       "    <tr>\n",
       "      <td>3</td>\n",
       "      <td>3</td>\n",
       "      <td>17</td>\n",
       "      <td>10127</td>\n",
       "      <td>1172.440</td>\n",
       "      <td>1335.040</td>\n",
       "      <td>103</td>\n",
       "      <td>1396</td>\n",
       "      <td>715.925</td>\n",
       "      <td>575.990</td>\n",
       "      <td>157.087</td>\n",
       "      <td>Deptor</td>\n",
       "    </tr>\n",
       "    <tr>\n",
       "      <td>4</td>\n",
       "      <td>4</td>\n",
       "      <td>28</td>\n",
       "      <td>10127</td>\n",
       "      <td>1172.440</td>\n",
       "      <td>1337.800</td>\n",
       "      <td>103</td>\n",
       "      <td>1413</td>\n",
       "      <td>714.699</td>\n",
       "      <td>578.090</td>\n",
       "      <td>156.710</td>\n",
       "      <td>Adarb2</td>\n",
       "    </tr>\n",
       "    <tr>\n",
       "      <td>...</td>\n",
       "      <td>...</td>\n",
       "      <td>...</td>\n",
       "      <td>...</td>\n",
       "      <td>...</td>\n",
       "      <td>...</td>\n",
       "      <td>...</td>\n",
       "      <td>...</td>\n",
       "      <td>...</td>\n",
       "      <td>...</td>\n",
       "      <td>...</td>\n",
       "      <td>...</td>\n",
       "    </tr>\n",
       "    <tr>\n",
       "      <td>847047</td>\n",
       "      <td>847047</td>\n",
       "      <td>61</td>\n",
       "      <td>750192</td>\n",
       "      <td>308.262</td>\n",
       "      <td>329.225</td>\n",
       "      <td>1897</td>\n",
       "      <td>1722</td>\n",
       "      <td>477.726</td>\n",
       "      <td>724.373</td>\n",
       "      <td>157.483</td>\n",
       "      <td>Gm11549</td>\n",
       "    </tr>\n",
       "    <tr>\n",
       "      <td>847048</td>\n",
       "      <td>847048</td>\n",
       "      <td>42</td>\n",
       "      <td>750000</td>\n",
       "      <td>309.075</td>\n",
       "      <td>355.875</td>\n",
       "      <td>1902</td>\n",
       "      <td>1886</td>\n",
       "      <td>461.572</td>\n",
       "      <td>731.747</td>\n",
       "      <td>160.071</td>\n",
       "      <td>Nrn1</td>\n",
       "    </tr>\n",
       "    <tr>\n",
       "      <td>847049</td>\n",
       "      <td>847049</td>\n",
       "      <td>72</td>\n",
       "      <td>750142</td>\n",
       "      <td>311.838</td>\n",
       "      <td>264.713</td>\n",
       "      <td>1919</td>\n",
       "      <td>1325</td>\n",
       "      <td>524.293</td>\n",
       "      <td>701.246</td>\n",
       "      <td>152.354</td>\n",
       "      <td>Rprml</td>\n",
       "    </tr>\n",
       "    <tr>\n",
       "      <td>847050</td>\n",
       "      <td>847050</td>\n",
       "      <td>23</td>\n",
       "      <td>750000</td>\n",
       "      <td>314.600</td>\n",
       "      <td>176.150</td>\n",
       "      <td>1936</td>\n",
       "      <td>780</td>\n",
       "      <td>592.405</td>\n",
       "      <td>672.597</td>\n",
       "      <td>143.313</td>\n",
       "      <td>Gad1</td>\n",
       "    </tr>\n",
       "    <tr>\n",
       "      <td>847051</td>\n",
       "      <td>847051</td>\n",
       "      <td>72</td>\n",
       "      <td>750142</td>\n",
       "      <td>315.250</td>\n",
       "      <td>258.050</td>\n",
       "      <td>1940</td>\n",
       "      <td>1284</td>\n",
       "      <td>531.440</td>\n",
       "      <td>695.960</td>\n",
       "      <td>152.112</td>\n",
       "      <td>Rprml</td>\n",
       "    </tr>\n",
       "  </tbody>\n",
       "</table>\n",
       "<p>847052 rows × 11 columns</p>\n",
       "</div>"
      ],
      "text/plain": [
       "        Unnamed: 0  Gene ID  Cell ID         x         y  x(tile)  y(tile)  \\\n",
       "0                0       52    10027  1172.440  1158.560      103      310   \n",
       "1                1       17    10087  1172.440  1250.370      103      875   \n",
       "2                2       61    10127  1172.440  1334.550      103     1393   \n",
       "3                3       17    10127  1172.440  1335.040      103     1396   \n",
       "4                4       28    10127  1172.440  1337.800      103     1413   \n",
       "...            ...      ...      ...       ...       ...      ...      ...   \n",
       "847047      847047       61   750192   308.262   329.225     1897     1722   \n",
       "847048      847048       42   750000   309.075   355.875     1902     1886   \n",
       "847049      847049       72   750142   311.838   264.713     1919     1325   \n",
       "847050      847050       23   750000   314.600   176.150     1936      780   \n",
       "847051      847051       72   750142   315.250   258.050     1940     1284   \n",
       "\n",
       "        Dist to pia  Dist to bottom    angle   target  \n",
       "0           810.111         448.925  172.287      Npy  \n",
       "1           757.449         514.318  166.784   Deptor  \n",
       "2           716.143         575.620  157.153  Gm11549  \n",
       "3           715.925         575.990  157.087   Deptor  \n",
       "4           714.699         578.090  156.710   Adarb2  \n",
       "...             ...             ...      ...      ...  \n",
       "847047      477.726         724.373  157.483  Gm11549  \n",
       "847048      461.572         731.747  160.071     Nrn1  \n",
       "847049      524.293         701.246  152.354    Rprml  \n",
       "847050      592.405         672.597  143.313     Gad1  \n",
       "847051      531.440         695.960  152.112    Rprml  \n",
       "\n",
       "[847052 rows x 11 columns]"
      ]
     },
     "execution_count": 28,
     "metadata": {},
     "output_type": "execute_result"
    }
   ],
   "source": [
    "# load one spotxgene table\n",
    "all_spots = pd.read_csv(local_file)\n",
    "all_spots"
   ]
  },
  {
   "cell_type": "code",
   "execution_count": 30,
   "metadata": {},
   "outputs": [],
   "source": [
    "all_spots[\"gene\"] = all_spots[\"target\"]\n",
    "genes = list(all_spots[\"gene\"].unique())"
   ]
  },
  {
   "cell_type": "code",
   "execution_count": 31,
   "metadata": {},
   "outputs": [],
   "source": [
    "subsample = 1 # change to >1 if number of points is too high\n",
    "colorlist = [\"magenta\", \"red\",\"blue\",\"cyan\", \"green\", \"orange\",\"red\"]\n"
   ]
  },
  {
   "cell_type": "code",
   "execution_count": 33,
   "metadata": {},
   "outputs": [],
   "source": [
    "cindex = 0\n",
    "for ii, gene_to_plot in enumerate([\"Gad1\",\"Gad2\",\"Slc17a7\",\"Cux2\",\"Calb1\",\"Meis2\",\"Foxp2\", \"Atp1a3\" , \"Vxn\", \"Pcp4\" , \"Fezf2\" , \"Rorb\" , \"Gm11549\"]):\n",
    "\n",
    "    if gene_to_plot in genes:\n",
    "        if gene_to_plot == \"Slc17a7\":\n",
    "            spots = v.add_points(all_spots[all_spots[\"gene\"]==gene_to_plot][[\"x\",\"y\"]].values[::subsample,:], symbol='disc',\n",
    "                                 name = gene_to_plot+\"+\",edge_color= [0,0,0,0], size = 1.5,\n",
    "                                 face_color= colorlist[ cindex % len(colorlist)] , blending = \"translucent\", opacity = 0.8)\n",
    "        else:\n",
    "            spots = v.add_points(all_spots[all_spots[\"gene\"]==gene_to_plot][[\"x\",\"y\"]].values[::subsample,:], symbol='disc',\n",
    "                     name = gene_to_plot+\"+\",edge_color= [0,0,0,0], size = 2.,\n",
    "                     face_color= colorlist[ cindex % len(colorlist)] , blending = \"translucent\", opacity = 0.7)\n",
    "        cindex = cindex + 1"
   ]
  },
  {
   "cell_type": "code",
   "execution_count": 34,
   "metadata": {},
   "outputs": [
    {
     "data": {
      "text/plain": [
       "[<Points layer 'Gad1+' at 0x12b66cc90>,\n",
       " <Points layer 'Gad2+' at 0x12b739450>,\n",
       " <Points layer 'Slc17a7+' at 0x122d867d0>,\n",
       " <Points layer 'Calb1+' at 0x1291b3bd0>,\n",
       " <Points layer 'Atp1a3+' at 0x1200d8c50>,\n",
       " <Points layer 'Vxn+' at 0x12023b0d0>,\n",
       " <Points layer 'Pcp4+' at 0x129fe7650>,\n",
       " <Points layer 'Fezf2+' at 0x12a55fcd0>,\n",
       " <Points layer 'Rorb+' at 0x12a565290>,\n",
       " <Points layer 'Gm11549+' at 0x12cd14f90>,\n",
       " <Shapes layer 'Shapes' at 0x12e611990>]"
      ]
     },
     "execution_count": 34,
     "metadata": {},
     "output_type": "execute_result"
    }
   ],
   "source": [
    "v.layers"
   ]
  },
  {
   "cell_type": "markdown",
   "metadata": {},
   "source": [
    "### annotate the layers in that viewer in a single `shapes` layer\n",
    "#### Naming/order Convention:\n",
    "0. outline of entire area\n",
    "1. Layer 1\n",
    "1. Layer 2/3\n",
    "2. Layer 4\n",
    "3. Layer 5\n",
    "4. Layer 6\n",
    "5. white matter\n",
    "6. single line segment, pointing from pia to white matter "
   ]
  },
  {
   "cell_type": "markdown",
   "metadata": {},
   "source": [
    "#### annotate the layer locations in a list"
   ]
  },
  {
   "cell_type": "code",
   "execution_count": 35,
   "metadata": {},
   "outputs": [],
   "source": [
    "shapes_layer = v.layers[-1].data[:-1]\n",
    "column_points = v.layers[-1].data[-1]"
   ]
  },
  {
   "cell_type": "code",
   "execution_count": 37,
   "metadata": {},
   "outputs": [
    {
     "name": "stdout",
     "output_type": "stream",
     "text": [
      "8 annotations\n"
     ]
    }
   ],
   "source": [
    "if len(v.layers[-1].data) != 8:\n",
    "    print(\"please annotate the 7 polygons and 1 line segment described above\")\n",
    "else:\n",
    "    print(str(len(v.layers[-1].data))+\" annotations\")"
   ]
  },
  {
   "cell_type": "code",
   "execution_count": 39,
   "metadata": {},
   "outputs": [],
   "source": [
    "# go get all the plotted points and note if they're in the annotated polygons\n",
    "is_in_layer = {ii:[Polygon(p).intersects(Point(a))  for a  in all_spots[[\"x\",\"y\"]].values] for ii,p in enumerate(shapes_layer)}"
   ]
  },
  {
   "cell_type": "code",
   "execution_count": 41,
   "metadata": {},
   "outputs": [],
   "source": [
    "annotation_names = [\"VISp\", \"VISp_I\", \"VISp_II/III\", \"VISp_IV\", \"VISp_V\",\"VISp_VI\", \"VISp_wm\", \"column_axis\"]\n"
   ]
  },
  {
   "cell_type": "code",
   "execution_count": 42,
   "metadata": {},
   "outputs": [],
   "source": [
    "all_spots[\"layer\"] = \"outside_VISp\"\n",
    "for k in is_in_layer.keys():\n",
    "    all_spots.loc[is_in_layer[k],[\"layer\"]] = annotation_names[k]\n"
   ]
  },
  {
   "cell_type": "code",
   "execution_count": null,
   "metadata": {},
   "outputs": [],
   "source": [
    "# now the spots have depth coordinates, which will be useful for detected spots v. column depth\n",
    "all_spots[\"depth_um\"] = depth_coordinate(all_spots[[\"x\",\"y\"]].values, column_points)"
   ]
  },
  {
   "cell_type": "code",
   "execution_count": 46,
   "metadata": {},
   "outputs": [
    {
     "data": {
      "text/html": [
       "<div>\n",
       "<style scoped>\n",
       "    .dataframe tbody tr th:only-of-type {\n",
       "        vertical-align: middle;\n",
       "    }\n",
       "\n",
       "    .dataframe tbody tr th {\n",
       "        vertical-align: top;\n",
       "    }\n",
       "\n",
       "    .dataframe thead th {\n",
       "        text-align: right;\n",
       "    }\n",
       "</style>\n",
       "<table border=\"1\" class=\"dataframe\">\n",
       "  <thead>\n",
       "    <tr style=\"text-align: right;\">\n",
       "      <th></th>\n",
       "      <th>Unnamed: 0</th>\n",
       "      <th>Gene ID</th>\n",
       "      <th>Cell ID</th>\n",
       "      <th>x</th>\n",
       "      <th>y</th>\n",
       "      <th>x(tile)</th>\n",
       "      <th>y(tile)</th>\n",
       "      <th>Dist to pia</th>\n",
       "      <th>Dist to bottom</th>\n",
       "      <th>angle</th>\n",
       "      <th>target</th>\n",
       "      <th>gene</th>\n",
       "      <th>layer</th>\n",
       "    </tr>\n",
       "  </thead>\n",
       "  <tbody>\n",
       "    <tr>\n",
       "      <td>0</td>\n",
       "      <td>0</td>\n",
       "      <td>52</td>\n",
       "      <td>10027</td>\n",
       "      <td>1172.440</td>\n",
       "      <td>1158.560</td>\n",
       "      <td>103</td>\n",
       "      <td>310</td>\n",
       "      <td>810.111</td>\n",
       "      <td>448.925</td>\n",
       "      <td>172.287</td>\n",
       "      <td>Npy</td>\n",
       "      <td>Npy</td>\n",
       "      <td>outside_VISp</td>\n",
       "    </tr>\n",
       "    <tr>\n",
       "      <td>1</td>\n",
       "      <td>1</td>\n",
       "      <td>17</td>\n",
       "      <td>10087</td>\n",
       "      <td>1172.440</td>\n",
       "      <td>1250.370</td>\n",
       "      <td>103</td>\n",
       "      <td>875</td>\n",
       "      <td>757.449</td>\n",
       "      <td>514.318</td>\n",
       "      <td>166.784</td>\n",
       "      <td>Deptor</td>\n",
       "      <td>Deptor</td>\n",
       "      <td>outside_VISp</td>\n",
       "    </tr>\n",
       "    <tr>\n",
       "      <td>2</td>\n",
       "      <td>2</td>\n",
       "      <td>61</td>\n",
       "      <td>10127</td>\n",
       "      <td>1172.440</td>\n",
       "      <td>1334.550</td>\n",
       "      <td>103</td>\n",
       "      <td>1393</td>\n",
       "      <td>716.143</td>\n",
       "      <td>575.620</td>\n",
       "      <td>157.153</td>\n",
       "      <td>Gm11549</td>\n",
       "      <td>Gm11549</td>\n",
       "      <td>outside_VISp</td>\n",
       "    </tr>\n",
       "    <tr>\n",
       "      <td>3</td>\n",
       "      <td>3</td>\n",
       "      <td>17</td>\n",
       "      <td>10127</td>\n",
       "      <td>1172.440</td>\n",
       "      <td>1335.040</td>\n",
       "      <td>103</td>\n",
       "      <td>1396</td>\n",
       "      <td>715.925</td>\n",
       "      <td>575.990</td>\n",
       "      <td>157.087</td>\n",
       "      <td>Deptor</td>\n",
       "      <td>Deptor</td>\n",
       "      <td>outside_VISp</td>\n",
       "    </tr>\n",
       "    <tr>\n",
       "      <td>4</td>\n",
       "      <td>4</td>\n",
       "      <td>28</td>\n",
       "      <td>10127</td>\n",
       "      <td>1172.440</td>\n",
       "      <td>1337.800</td>\n",
       "      <td>103</td>\n",
       "      <td>1413</td>\n",
       "      <td>714.699</td>\n",
       "      <td>578.090</td>\n",
       "      <td>156.710</td>\n",
       "      <td>Adarb2</td>\n",
       "      <td>Adarb2</td>\n",
       "      <td>outside_VISp</td>\n",
       "    </tr>\n",
       "    <tr>\n",
       "      <td>...</td>\n",
       "      <td>...</td>\n",
       "      <td>...</td>\n",
       "      <td>...</td>\n",
       "      <td>...</td>\n",
       "      <td>...</td>\n",
       "      <td>...</td>\n",
       "      <td>...</td>\n",
       "      <td>...</td>\n",
       "      <td>...</td>\n",
       "      <td>...</td>\n",
       "      <td>...</td>\n",
       "      <td>...</td>\n",
       "      <td>...</td>\n",
       "    </tr>\n",
       "    <tr>\n",
       "      <td>847047</td>\n",
       "      <td>847047</td>\n",
       "      <td>61</td>\n",
       "      <td>750192</td>\n",
       "      <td>308.262</td>\n",
       "      <td>329.225</td>\n",
       "      <td>1897</td>\n",
       "      <td>1722</td>\n",
       "      <td>477.726</td>\n",
       "      <td>724.373</td>\n",
       "      <td>157.483</td>\n",
       "      <td>Gm11549</td>\n",
       "      <td>Gm11549</td>\n",
       "      <td>outside_VISp</td>\n",
       "    </tr>\n",
       "    <tr>\n",
       "      <td>847048</td>\n",
       "      <td>847048</td>\n",
       "      <td>42</td>\n",
       "      <td>750000</td>\n",
       "      <td>309.075</td>\n",
       "      <td>355.875</td>\n",
       "      <td>1902</td>\n",
       "      <td>1886</td>\n",
       "      <td>461.572</td>\n",
       "      <td>731.747</td>\n",
       "      <td>160.071</td>\n",
       "      <td>Nrn1</td>\n",
       "      <td>Nrn1</td>\n",
       "      <td>outside_VISp</td>\n",
       "    </tr>\n",
       "    <tr>\n",
       "      <td>847049</td>\n",
       "      <td>847049</td>\n",
       "      <td>72</td>\n",
       "      <td>750142</td>\n",
       "      <td>311.838</td>\n",
       "      <td>264.713</td>\n",
       "      <td>1919</td>\n",
       "      <td>1325</td>\n",
       "      <td>524.293</td>\n",
       "      <td>701.246</td>\n",
       "      <td>152.354</td>\n",
       "      <td>Rprml</td>\n",
       "      <td>Rprml</td>\n",
       "      <td>outside_VISp</td>\n",
       "    </tr>\n",
       "    <tr>\n",
       "      <td>847050</td>\n",
       "      <td>847050</td>\n",
       "      <td>23</td>\n",
       "      <td>750000</td>\n",
       "      <td>314.600</td>\n",
       "      <td>176.150</td>\n",
       "      <td>1936</td>\n",
       "      <td>780</td>\n",
       "      <td>592.405</td>\n",
       "      <td>672.597</td>\n",
       "      <td>143.313</td>\n",
       "      <td>Gad1</td>\n",
       "      <td>Gad1</td>\n",
       "      <td>outside_VISp</td>\n",
       "    </tr>\n",
       "    <tr>\n",
       "      <td>847051</td>\n",
       "      <td>847051</td>\n",
       "      <td>72</td>\n",
       "      <td>750142</td>\n",
       "      <td>315.250</td>\n",
       "      <td>258.050</td>\n",
       "      <td>1940</td>\n",
       "      <td>1284</td>\n",
       "      <td>531.440</td>\n",
       "      <td>695.960</td>\n",
       "      <td>152.112</td>\n",
       "      <td>Rprml</td>\n",
       "      <td>Rprml</td>\n",
       "      <td>outside_VISp</td>\n",
       "    </tr>\n",
       "  </tbody>\n",
       "</table>\n",
       "<p>847052 rows × 13 columns</p>\n",
       "</div>"
      ],
      "text/plain": [
       "        Unnamed: 0  Gene ID  Cell ID         x         y  x(tile)  y(tile)  \\\n",
       "0                0       52    10027  1172.440  1158.560      103      310   \n",
       "1                1       17    10087  1172.440  1250.370      103      875   \n",
       "2                2       61    10127  1172.440  1334.550      103     1393   \n",
       "3                3       17    10127  1172.440  1335.040      103     1396   \n",
       "4                4       28    10127  1172.440  1337.800      103     1413   \n",
       "...            ...      ...      ...       ...       ...      ...      ...   \n",
       "847047      847047       61   750192   308.262   329.225     1897     1722   \n",
       "847048      847048       42   750000   309.075   355.875     1902     1886   \n",
       "847049      847049       72   750142   311.838   264.713     1919     1325   \n",
       "847050      847050       23   750000   314.600   176.150     1936      780   \n",
       "847051      847051       72   750142   315.250   258.050     1940     1284   \n",
       "\n",
       "        Dist to pia  Dist to bottom    angle   target     gene         layer  \n",
       "0           810.111         448.925  172.287      Npy      Npy  outside_VISp  \n",
       "1           757.449         514.318  166.784   Deptor   Deptor  outside_VISp  \n",
       "2           716.143         575.620  157.153  Gm11549  Gm11549  outside_VISp  \n",
       "3           715.925         575.990  157.087   Deptor   Deptor  outside_VISp  \n",
       "4           714.699         578.090  156.710   Adarb2   Adarb2  outside_VISp  \n",
       "...             ...             ...      ...      ...      ...           ...  \n",
       "847047      477.726         724.373  157.483  Gm11549  Gm11549  outside_VISp  \n",
       "847048      461.572         731.747  160.071     Nrn1     Nrn1  outside_VISp  \n",
       "847049      524.293         701.246  152.354    Rprml    Rprml  outside_VISp  \n",
       "847050      592.405         672.597  143.313     Gad1     Gad1  outside_VISp  \n",
       "847051      531.440         695.960  152.112    Rprml    Rprml  outside_VISp  \n",
       "\n",
       "[847052 rows x 13 columns]"
      ]
     },
     "execution_count": 46,
     "metadata": {},
     "output_type": "execute_result"
    }
   ],
   "source": [
    "all_spots"
   ]
  },
  {
   "cell_type": "code",
   "execution_count": 48,
   "metadata": {},
   "outputs": [],
   "source": [
    "all_spots.to_csv(local_file.parent.joinpath(\"all_spots_2_with_annotation.csv\"))"
   ]
  },
  {
   "cell_type": "code",
   "execution_count": 50,
   "metadata": {},
   "outputs": [],
   "source": [
    "annotations = [mapping(Polygon(p))  for ii,p in enumerate(shapes_layer)]\n",
    "annotations.append(mapping(LineString(column_points)))\n",
    "for ii,ai in enumerate(annotations):\n",
    "    ai[\"name\"] = annotation_names[ii]"
   ]
  },
  {
   "cell_type": "code",
   "execution_count": 51,
   "metadata": {
    "scrolled": true
   },
   "outputs": [],
   "source": [
    "a = geojson.GeometryCollection(annotations)"
   ]
  },
  {
   "cell_type": "code",
   "execution_count": 53,
   "metadata": {},
   "outputs": [],
   "source": [
    "with open(local_file.parent.joinpath(\"annotations_geo.json\"),'w') as w:\n",
    "    geojson.dump(a,w)"
   ]
  },
  {
   "cell_type": "code",
   "execution_count": null,
   "metadata": {},
   "outputs": [],
   "source": [
    "with open(\"/Users/brian/work/data/stardist_rois.json\",'r') as r:\n",
    "    shapejson = geojson.load(r)"
   ]
  },
  {
   "cell_type": "code",
   "execution_count": 57,
   "metadata": {},
   "outputs": [],
   "source": [
    "all_cells = pd.read_csv(local_cell_file)"
   ]
  },
  {
   "cell_type": "code",
   "execution_count": 61,
   "metadata": {},
   "outputs": [],
   "source": [
    "cells = v.add_points(all_cells[[\"x_um\",\"y_um\"]], symbol='o', name = \"all\", opacity = 0.8, blending = \"translucent\")\n",
    "colorlist = [\"magenta\", \"green\",\"yellow\",\"cyan\", \"blue\", \"orange\"]\n",
    "for ii, gene_to_plot in enumerate([\"Cux2\", \"Atp1a3\" , \"Vxn\", \"Pcp4\" , \"Fezf2\" , \"Rorb\" , \"Gm11549\"]):\n",
    "\n",
    "    if gene_to_plot in all_cells:\n",
    "        cux2condition = all_cells[gene_to_plot]>0.5*all_cells[gene_to_plot].median()\n",
    "        cux2cells = v.add_points(all_cells[cux2condition][[\"x_um\",\"y_um\"]], symbol='disc',\n",
    "                                 name = gene_to_plot+\"+ cells\",edge_color= \"black\", size = 5,\n",
    "                                 face_color= colorlist[ ii % len(colorlist)] , blending = \"translucent\", opacity = 0.3)\n",
    "    "
   ]
  },
  {
   "cell_type": "code",
   "execution_count": 64,
   "metadata": {},
   "outputs": [],
   "source": [
    "cell_is_in_layer = {ii:[Polygon(p).intersects(Point(a))  for a  in all_cells[[\"x_um\",\"y_um\"]].values] for ii,p in enumerate(shapes_layer)}"
   ]
  },
  {
   "cell_type": "code",
   "execution_count": 67,
   "metadata": {},
   "outputs": [],
   "source": [
    "all_cells[\"depth_um\"] = depth_coordinate(all_cells[[\"x_um\",\"y_um\"]].values, column_points)"
   ]
  },
  {
   "cell_type": "code",
   "execution_count": 68,
   "metadata": {},
   "outputs": [],
   "source": [
    "all_cells[\"layer\"] = \"outside_VISp\"\n",
    "for k in cell_is_in_layer.keys():\n",
    "    all_cells.loc[cell_is_in_layer[k],[\"layer\"]] = annotation_names[k]\n"
   ]
  },
  {
   "cell_type": "code",
   "execution_count": 69,
   "metadata": {},
   "outputs": [
    {
     "data": {
      "text/plain": [
       "array(['outside_VISp', 'VISp_VI', 'VISp_wm', 'VISp', 'VISp_V', 'VISp_IV',\n",
       "       'VISp_II/III', 'VISp_I'], dtype=object)"
      ]
     },
     "execution_count": 69,
     "metadata": {},
     "output_type": "execute_result"
    }
   ],
   "source": [
    "all_cells[\"layer\"].unique()"
   ]
  },
  {
   "cell_type": "code",
   "execution_count": 70,
   "metadata": {},
   "outputs": [],
   "source": [
    "all_cells.to_csv(local_cell_file.parent.joinpath(\"cellxgene2_with_depth.csv\"))"
   ]
  },
  {
   "cell_type": "code",
   "execution_count": null,
   "metadata": {},
   "outputs": [],
   "source": []
  }
 ],
 "metadata": {
  "kernelspec": {
   "display_name": "Python 3",
   "language": "python",
   "name": "python3"
  },
  "language_info": {
   "codemirror_mode": {
    "name": "ipython",
    "version": 3
   },
   "file_extension": ".py",
   "mimetype": "text/x-python",
   "name": "python",
   "nbconvert_exporter": "python",
   "pygments_lexer": "ipython3",
   "version": "3.7.4"
  }
 },
 "nbformat": 4,
 "nbformat_minor": 2
}
