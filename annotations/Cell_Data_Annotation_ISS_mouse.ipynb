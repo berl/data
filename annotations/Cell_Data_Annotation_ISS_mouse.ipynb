{
 "cells": [
  {
   "cell_type": "code",
   "execution_count": 1,
   "metadata": {},
   "outputs": [
    {
     "data": {
      "text/html": [
       "<style>.container { width:100% !important; }</style>"
      ],
      "text/plain": [
       "<IPython.core.display.HTML object>"
      ]
     },
     "metadata": {},
     "output_type": "display_data"
    }
   ],
   "source": [
    "%gui qt\n",
    "import napari\n",
    "import pandas as pd\n",
    "import numpy as np\n",
    "from IPython.core.display import display, HTML\n",
    "display(HTML(\"<style>.container { width:100% !important; }</style>\"))\n",
    "from shapely.geometry import Polygon, Point,LineString,  mapping\n"
   ]
  },
  {
   "cell_type": "code",
   "execution_count": 2,
   "metadata": {},
   "outputs": [],
   "source": [
    "import json\n",
    "import geojson\n",
    "import pathlib\n"
   ]
  },
  {
   "cell_type": "markdown",
   "metadata": {},
   "source": [
    "## Make a napari viewer..."
   ]
  },
  {
   "cell_type": "code",
   "execution_count": 3,
   "metadata": {},
   "outputs": [],
   "source": [
    "v = napari.Viewer()"
   ]
  },
  {
   "cell_type": "markdown",
   "metadata": {},
   "source": [
    "## Load Cell table from 1 dataset"
   ]
  },
  {
   "cell_type": "code",
   "execution_count": 4,
   "metadata": {},
   "outputs": [],
   "source": [
    "# downloaded Baysor-segmented data for Baristaseq\n",
    "cell_stats = pd.read_csv(\"/Users/brian/Downloads/mouse_visp1_ISS_m_brain_03_PreliminaryCalls_prior/segmentation_cell_stats.csv\")\n"
   ]
  },
  {
   "cell_type": "code",
   "execution_count": 5,
   "metadata": {},
   "outputs": [
    {
     "data": {
      "text/plain": [
       "<Points layer 'Points' at 0x13055dd90>"
      ]
     },
     "execution_count": 5,
     "metadata": {},
     "output_type": "execute_result"
    }
   ],
   "source": [
    "# add the cells to the napari viewer\n",
    "v.add_points(cell_stats[[\"x\",\"y\"]].values)"
   ]
  },
  {
   "cell_type": "code",
   "execution_count": 6,
   "metadata": {},
   "outputs": [],
   "source": [
    "# Brian's layer segmentation and restriction of cells to a rectangular region that includes roughly equal area in each layer\n",
    "\n",
    "\n",
    "\n",
    "with open(\"/Users/brian/work/data/data/annotations/ISS_layer_Annotation_new_6_layers.json\", 'r') as r:\n",
    "    layer_geojson = geojson.load(r)"
   ]
  },
  {
   "cell_type": "code",
   "execution_count": 8,
   "metadata": {},
   "outputs": [
    {
     "data": {
      "text/plain": [
       "[{\"coordinates\": [[[39334.13312, 1362.231682], [39035.589057, 645.725932], [39354.036057, 386.987744], [41384.135683, 247.667182], [45703.073121, 227.764244], [49325.407747, 904.464119], [53962.792186, 2874.854932], [57366.194499, 5163.692745], [60072.994, 8507.386246], [61784.646626, 11453.020997], [63038.531688, 14657.393935], [62361.831813, 15334.09381], [61685.131938, 13184.57656], [59774.449938, 9323.406684], [57346.291562, 6278.257246], [54739.006749, 4287.963495], [51514.730873, 2536.504995], [49126.378372, 1760.290432], [45683.170184, 824.852369], [41483.65037, 944.269994]]], \"name\": \"L1_polygon\", \"type\": \"Polygon\"},\n",
       " {\"coordinates\": [[[39393.841932, 1402.037557], [39732.19187, 1899.610994], [44946.761496, 1800.096307], [48171.037372, 2357.378557], [51833.177873, 3949.613558], [54818.618499, 5382.625058], [57226.873937, 7552.045246], [59575.420562, 10238.941809], [61764.743688, 15791.861373], [62262.317126, 15493.31731], [61545.811375, 13184.57656], [59674.93525, 9403.018434], [57326.388624, 6457.383683], [54619.589124, 4367.575245], [51355.507373, 2556.407932], [48947.251935, 1760.290432], [45643.364309, 944.269994], [41622.970933, 984.075869]]], \"name\": \"L2_polygon\", \"type\": \"Polygon\"},\n",
       " {\"coordinates\": [[[39752.094807, 1959.319807], [40030.735933, 2596.213807], [43692.876433, 2576.31087], [47852.590372, 3272.913682], [51076.866248, 4248.15762], [54699.200874, 6019.519058], [56808.912249, 8069.521621], [58898.720687, 10537.485872], [61187.5585, 16189.920123], [61625.423125, 15831.667248], [59436.1, 10199.135934], [57007.941624, 7432.627621], [54699.200874, 5402.527995], [48131.231497, 2417.08737], [44847.246809, 1859.805119]]], \"name\": \"L3_polygon\", \"type\": \"Polygon\"},\n",
       " {\"coordinates\": [[[40110.347683, 2775.340245], [40767.14462, 3750.584182], [43991.420496, 3631.166557], [47175.890497, 3969.516495], [50718.613373, 5402.527995], [54719.103811, 7731.171683], [56928.329874, 9840.883059], [58540.467812, 12687.003122], [60212.314563, 16886.522936], [61088.043813, 16209.823061], [58799.206, 10457.874122], [56589.979937, 7930.201059], [54619.589124, 6019.519058], [51017.157435, 4287.963495], [47772.978622, 3332.622495], [43593.361746, 2616.116745]]], \"name\": \"L4_polygon\", \"type\": \"Polygon\"},\n",
       " {\"coordinates\": [[[40886.562245, 3929.71062], [41483.65037, 5123.88687], [44488.993934, 4865.148683], [49444.825372, 6278.257246], [52768.615936, 8169.036309], [55535.124249, 10776.321122], [57525.417999, 13721.955872], [59376.391187, 17463.708123], [60132.702813, 16986.037623], [58839.011875, 13602.538247], [57744.350312, 11433.118059], [56888.523999, 9920.494809], [54480.268561, 7651.559933], [50499.68106, 5382.625058], [47016.666997, 4029.225308], [43891.905809, 3690.87537]]], \"name\": \"L5_polygon\", \"type\": \"Polygon\"},\n",
       " {\"coordinates\": [[[41543.359183, 5243.304495], [42359.379621, 7074.374746], [46897.249372, 7651.559933], [50499.68106, 8766.124434], [53604.539311, 10915.641684], [55992.891812, 14259.335185], [57923.47675, 17961.281561], [58003.0885, 18100.602124], [59217.167687, 17503.513998], [57366.194499, 13602.538247], [55475.415436, 10816.126997], [52748.712998, 8208.842184], [49265.698935, 6278.257246], [44449.188059, 4984.566308]]], \"name\": \"L6_polygon\", \"type\": \"Polygon\"}]"
      ]
     },
     "execution_count": 8,
     "metadata": {},
     "output_type": "execute_result"
    }
   ],
   "source": [
    "layer_geojson"
   ]
  },
  {
   "cell_type": "code",
   "execution_count": 10,
   "metadata": {},
   "outputs": [],
   "source": [
    "    \n",
    "layer_data_brl = {layer_annotation[\"name\"]:np.array(layer_annotation[\"coordinates\"][0]) \n",
    "                  for layer_annotation in layer_geojson if layer_annotation[\"name\"] not in [\"column_axis\"]}"
   ]
  },
  {
   "cell_type": "code",
   "execution_count": 11,
   "metadata": {},
   "outputs": [
    {
     "data": {
      "text/plain": [
       "<Shapes layer 'Layers' at 0x137362750>"
      ]
     },
     "execution_count": 11,
     "metadata": {},
     "output_type": "execute_result"
    }
   ],
   "source": [
    "# add the polygons to the viewer\n",
    "v.add_shapes([layer_data_brl[layer_name] for layer_name in layer_data_brl.keys()],shape_type='polygon', edge_width=1,\n",
    "    edge_color='coral',\n",
    "    face_color='royalblue',\n",
    "    name=\"Layers\")"
   ]
  },
  {
   "cell_type": "markdown",
   "metadata": {},
   "source": [
    "## Brian added a \"VISp\" polygon to subset the cortical layer annotations from Christoffer to include only V1 and merged the previously separate layer 2 and 3 annotations"
   ]
  },
  {
   "cell_type": "code",
   "execution_count": 27,
   "metadata": {},
   "outputs": [],
   "source": [
    "shapes_layer  = v.layers[-1].data\n",
    "annotation_names = [\"VISp_1\", \"VISp_2/3\", \"VISp_4\", \"VISp_5\",\"VISp_6\", \"VISp\"]\n",
    "annotations = [mapping(Polygon(p))  for ii,p in enumerate(shapes_layer)]\n",
    "for ii,ai in enumerate(annotations):\n",
    "    ai[\"name\"] = annotation_names[ii]\n",
    "\n",
    "a = geojson.GeometryCollection(annotations)\n",
    "\n",
    "with open(\"/Users/brian/Downloads/mouse_visp1_ISS_m_brain_03_PreliminaryCalls_prior/Layers_VISp_geo.json\",'w') as w:\n",
    "    geojson.dump(a,w)\n",
    "    "
   ]
  },
  {
   "cell_type": "code",
   "execution_count": 46,
   "metadata": {},
   "outputs": [
    {
     "data": {
      "text/plain": [
       "[{'type': 'Polygon',\n",
       "  'coordinates': (((39334.13312, 1362.231682),\n",
       "    (39035.589057, 645.725932),\n",
       "    (39354.036057, 386.987744),\n",
       "    (41384.135683, 247.667182),\n",
       "    (45703.073121, 227.764244),\n",
       "    (49325.407747, 904.464119),\n",
       "    (53962.792186, 2874.854932),\n",
       "    (57366.194499, 5163.692745),\n",
       "    (60072.994, 8507.386246),\n",
       "    (61784.646626, 11453.020997),\n",
       "    (63038.531688, 14657.393935),\n",
       "    (62256.22292006615, 15439.08804782239),\n",
       "    (61545.58751585353, 13172.73729925241),\n",
       "    (59740.189461907954, 9427.496655429137),\n",
       "    (57377.80690195789, 6469.716864922553),\n",
       "    (54631.29709648749, 4337.81065228469),\n",
       "    (51500.660045496756, 2590.031685167163),\n",
       "    (49138.277485546685, 1783.3644695744579),\n",
       "    (45682.95460899599, 1033.8837465883028),\n",
       "    (41478.58297014514, 1117.2565552907276),\n",
       "    (39334.13312, 1362.231682)),),\n",
       "  'name': 'VISp_1'},\n",
       " {'type': 'Polygon',\n",
       "  'coordinates': (((39323.02357149946, 1360.5180814896873),\n",
       "    (40084.29447120469, 2749.3231012221863),\n",
       "    (43592.31307660307, 2605.2988769536305),\n",
       "    (47738.153246619346, 3315.132553705797),\n",
       "    (50935.80704155858, 4230.948896820723),\n",
       "    (54700.25404765787, 6055.553313042317),\n",
       "    (56736.12844891565, 8053.014989748063),\n",
       "    (58829.62193700148, 10492.2229988022),\n",
       "    (61076.766323295444, 16158.09987022715),\n",
       "    (62235.2422657903, 15482.487365916124),\n",
       "    (61518.7365147903, 13173.746615916123),\n",
       "    (59647.8603897903, 9392.188489916123),\n",
       "    (57299.3137637903, 6446.553738916117),\n",
       "    (54592.5142637903, 4356.745300916117),\n",
       "    (51328.4325127903, 2545.5779879161173),\n",
       "    (48920.1770747903, 1749.4604879161172),\n",
       "    (45588.07732718163, 1041.607299180743),\n",
       "    (41575.9739368433, 1123.9068559056318),\n",
       "    (39323.02357149946, 1360.5180814896873)),),\n",
       "  'name': 'VISp_2/3'},\n",
       " {'type': 'Polygon',\n",
       "  'coordinates': (((40110.347683, 2775.340245),\n",
       "    (40859.24210549855, 3904.2904462003607),\n",
       "    (44003.58803370429, 3654.172020093086),\n",
       "    (47112.20275818042, 4047.2152611188035),\n",
       "    (50697.23353238469, 5440.73220657362),\n",
       "    (54719.103811, 7731.171683),\n",
       "    (56928.329874, 9840.883059),\n",
       "    (58540.467812, 12687.003122),\n",
       "    (60212.314563, 16886.522936),\n",
       "    (61088.043813, 16209.823061),\n",
       "    (58799.206, 10457.874122),\n",
       "    (56589.979937, 7930.201059),\n",
       "    (54619.589124, 6019.519058),\n",
       "    (51017.157435, 4287.963495),\n",
       "    (47772.978622, 3332.622495),\n",
       "    (43593.361746, 2616.116745),\n",
       "    (40110.347683, 2775.340245)),),\n",
       "  'name': 'VISp_4'},\n",
       " {'type': 'Polygon',\n",
       "  'coordinates': (((40886.562245, 3929.71062),\n",
       "    (41514.31417387474, 5214.434582952752),\n",
       "    (44503.82488591884, 4952.4057556022735),\n",
       "    (49375.1789943891, 6298.281096084276),\n",
       "    (52768.615936, 8169.036309),\n",
       "    (55535.124249, 10776.321122),\n",
       "    (57525.417999, 13721.955872),\n",
       "    (59376.391187, 17463.708123),\n",
       "    (60132.702813, 16986.037623),\n",
       "    (58839.011875, 13602.538247),\n",
       "    (57744.350312, 11433.118059),\n",
       "    (56888.523999, 9920.494809),\n",
       "    (54480.268561, 7651.559933),\n",
       "    (50499.68106, 5382.625058),\n",
       "    (47016.666997, 4029.225308),\n",
       "    (43891.905809, 3690.87537),\n",
       "    (40886.562245, 3929.71062)),),\n",
       "  'name': 'VISp_5'},\n",
       " {'type': 'Polygon',\n",
       "  'coordinates': (((41543.359183, 5243.304495),\n",
       "    (42359.379621, 7074.374746),\n",
       "    (46897.249372, 7651.559933),\n",
       "    (50499.68106, 8766.124434),\n",
       "    (53604.539311, 10915.641684),\n",
       "    (55992.891812, 14259.335185),\n",
       "    (57923.47675, 17961.281561),\n",
       "    (58003.0885, 18100.602124),\n",
       "    (59217.167687, 17503.513998),\n",
       "    (57366.194499, 13602.538247),\n",
       "    (55475.415436, 10816.126997),\n",
       "    (52748.712998, 8208.842184),\n",
       "    (49265.698935, 6278.257246),\n",
       "    (44449.188059, 4984.566308),\n",
       "    (41543.359183, 5243.304495)),),\n",
       "  'name': 'VISp_6'},\n",
       " {'type': 'Polygon',\n",
       "  'coordinates': (((44000.33897460559, 7360.075721385211),\n",
       "    (43315.23474903558, -70.67010979714723),\n",
       "    (48058.26400298177, -70.67010979714723),\n",
       "    (52930.532280990876, 1927.0807633118916),\n",
       "    (49744.67440438486, 8782.984497569067),\n",
       "    (44000.33897460559, 7360.075721385211)),),\n",
       "  'name': 'VISp'}]"
      ]
     },
     "execution_count": 46,
     "metadata": {},
     "output_type": "execute_result"
    }
   ],
   "source": [
    "annotations"
   ]
  },
  {
   "cell_type": "code",
   "execution_count": 69,
   "metadata": {},
   "outputs": [],
   "source": [
    "# Use layers to annotate the cell x gene data\n",
    "# slightly awkward dict comprehension here going through the annotations (except not annotations[-1])\n",
    "# and figuring out if the cell location is in the layer polygon and VISp (annotations[-1])\n",
    "is_in_layer = {p[\"name\"]:[(Polygon(p[\"coordinates\"][0]).intersects(Point(a)) and Polygon(annotations[-1][\"coordinates\"][0]).intersects(Point(a))) for a  in cell_stats[[\"x\",\"y\"]].values] for ii,p in enumerate(annotations[:-1])}"
   ]
  },
  {
   "cell_type": "code",
   "execution_count": 70,
   "metadata": {},
   "outputs": [],
   "source": [
    "\n",
    "\n",
    "cell_stats[\"layer\"] = \"outside_VISp\"\n",
    "for k in is_in_layer.keys():\n",
    "    cell_stats.loc[is_in_layer[k],[\"layer\"]] = k\n"
   ]
  },
  {
   "cell_type": "code",
   "execution_count": 75,
   "metadata": {},
   "outputs": [],
   "source": [
    "cell_stats[\"x_um\"] = cell_stats[\"x\"]*0.1625\n",
    "cell_stats[\"y_um\"] = cell_stats[\"y\"]*0.1625"
   ]
  },
  {
   "cell_type": "code",
   "execution_count": 76,
   "metadata": {},
   "outputs": [
    {
     "data": {
      "text/html": [
       "<div>\n",
       "<style scoped>\n",
       "    .dataframe tbody tr th:only-of-type {\n",
       "        vertical-align: middle;\n",
       "    }\n",
       "\n",
       "    .dataframe tbody tr th {\n",
       "        vertical-align: top;\n",
       "    }\n",
       "\n",
       "    .dataframe thead th {\n",
       "        text-align: right;\n",
       "    }\n",
       "</style>\n",
       "<table border=\"1\" class=\"dataframe\">\n",
       "  <thead>\n",
       "    <tr style=\"text-align: right;\">\n",
       "      <th></th>\n",
       "      <th>cell</th>\n",
       "      <th>x</th>\n",
       "      <th>y</th>\n",
       "      <th>has_center</th>\n",
       "      <th>cluster</th>\n",
       "      <th>n_transcripts</th>\n",
       "      <th>density</th>\n",
       "      <th>elongation</th>\n",
       "      <th>area</th>\n",
       "      <th>avg_confidence</th>\n",
       "      <th>doublet_score</th>\n",
       "      <th>layer</th>\n",
       "      <th>x_um</th>\n",
       "      <th>y_um</th>\n",
       "    </tr>\n",
       "  </thead>\n",
       "  <tbody>\n",
       "    <tr>\n",
       "      <th>0</th>\n",
       "      <td>1</td>\n",
       "      <td>152.142857</td>\n",
       "      <td>24494.571429</td>\n",
       "      <td>False</td>\n",
       "      <td>3</td>\n",
       "      <td>7</td>\n",
       "      <td>0.04590</td>\n",
       "      <td>2.794</td>\n",
       "      <td>152.5</td>\n",
       "      <td>0.9991</td>\n",
       "      <td>0.284900</td>\n",
       "      <td>outside_VISp</td>\n",
       "      <td>24.723214</td>\n",
       "      <td>3980.367857</td>\n",
       "    </tr>\n",
       "    <tr>\n",
       "      <th>1</th>\n",
       "      <td>2</td>\n",
       "      <td>128.500000</td>\n",
       "      <td>26559.750000</td>\n",
       "      <td>False</td>\n",
       "      <td>3</td>\n",
       "      <td>4</td>\n",
       "      <td>0.05714</td>\n",
       "      <td>3.045</td>\n",
       "      <td>70.0</td>\n",
       "      <td>0.9987</td>\n",
       "      <td>NaN</td>\n",
       "      <td>outside_VISp</td>\n",
       "      <td>20.881250</td>\n",
       "      <td>4315.959375</td>\n",
       "    </tr>\n",
       "    <tr>\n",
       "      <th>2</th>\n",
       "      <td>3</td>\n",
       "      <td>130.833333</td>\n",
       "      <td>26721.833333</td>\n",
       "      <td>False</td>\n",
       "      <td>3</td>\n",
       "      <td>6</td>\n",
       "      <td>0.02353</td>\n",
       "      <td>2.440</td>\n",
       "      <td>255.0</td>\n",
       "      <td>0.9881</td>\n",
       "      <td>0.003106</td>\n",
       "      <td>outside_VISp</td>\n",
       "      <td>21.260417</td>\n",
       "      <td>4342.297917</td>\n",
       "    </tr>\n",
       "    <tr>\n",
       "      <th>3</th>\n",
       "      <td>4</td>\n",
       "      <td>193.428571</td>\n",
       "      <td>24838.857143</td>\n",
       "      <td>False</td>\n",
       "      <td>3</td>\n",
       "      <td>7</td>\n",
       "      <td>0.02708</td>\n",
       "      <td>9.700</td>\n",
       "      <td>258.5</td>\n",
       "      <td>0.9961</td>\n",
       "      <td>0.003106</td>\n",
       "      <td>outside_VISp</td>\n",
       "      <td>31.432143</td>\n",
       "      <td>4036.314286</td>\n",
       "    </tr>\n",
       "    <tr>\n",
       "      <th>4</th>\n",
       "      <td>5</td>\n",
       "      <td>214.000000</td>\n",
       "      <td>24864.600000</td>\n",
       "      <td>False</td>\n",
       "      <td>3</td>\n",
       "      <td>5</td>\n",
       "      <td>0.03953</td>\n",
       "      <td>2.221</td>\n",
       "      <td>126.5</td>\n",
       "      <td>0.9975</td>\n",
       "      <td>0.137000</td>\n",
       "      <td>outside_VISp</td>\n",
       "      <td>34.775000</td>\n",
       "      <td>4040.497500</td>\n",
       "    </tr>\n",
       "    <tr>\n",
       "      <th>...</th>\n",
       "      <td>...</td>\n",
       "      <td>...</td>\n",
       "      <td>...</td>\n",
       "      <td>...</td>\n",
       "      <td>...</td>\n",
       "      <td>...</td>\n",
       "      <td>...</td>\n",
       "      <td>...</td>\n",
       "      <td>...</td>\n",
       "      <td>...</td>\n",
       "      <td>...</td>\n",
       "      <td>...</td>\n",
       "      <td>...</td>\n",
       "      <td>...</td>\n",
       "    </tr>\n",
       "    <tr>\n",
       "      <th>135207</th>\n",
       "      <td>135208</td>\n",
       "      <td>46897.000000</td>\n",
       "      <td>34441.000000</td>\n",
       "      <td>False</td>\n",
       "      <td>2</td>\n",
       "      <td>1</td>\n",
       "      <td>NaN</td>\n",
       "      <td>NaN</td>\n",
       "      <td>NaN</td>\n",
       "      <td>0.9997</td>\n",
       "      <td>NaN</td>\n",
       "      <td>outside_VISp</td>\n",
       "      <td>7620.762500</td>\n",
       "      <td>5596.662500</td>\n",
       "    </tr>\n",
       "    <tr>\n",
       "      <th>135208</th>\n",
       "      <td>135209</td>\n",
       "      <td>20717.000000</td>\n",
       "      <td>6161.000000</td>\n",
       "      <td>False</td>\n",
       "      <td>1</td>\n",
       "      <td>2</td>\n",
       "      <td>NaN</td>\n",
       "      <td>NaN</td>\n",
       "      <td>NaN</td>\n",
       "      <td>0.9993</td>\n",
       "      <td>NaN</td>\n",
       "      <td>outside_VISp</td>\n",
       "      <td>3366.512500</td>\n",
       "      <td>1001.162500</td>\n",
       "    </tr>\n",
       "    <tr>\n",
       "      <th>135209</th>\n",
       "      <td>135210</td>\n",
       "      <td>46620.000000</td>\n",
       "      <td>7199.500000</td>\n",
       "      <td>False</td>\n",
       "      <td>2</td>\n",
       "      <td>2</td>\n",
       "      <td>NaN</td>\n",
       "      <td>NaN</td>\n",
       "      <td>NaN</td>\n",
       "      <td>0.9995</td>\n",
       "      <td>NaN</td>\n",
       "      <td>VISp_6</td>\n",
       "      <td>7575.750000</td>\n",
       "      <td>1169.918750</td>\n",
       "    </tr>\n",
       "    <tr>\n",
       "      <th>135210</th>\n",
       "      <td>135211</td>\n",
       "      <td>32742.000000</td>\n",
       "      <td>3575.000000</td>\n",
       "      <td>False</td>\n",
       "      <td>1</td>\n",
       "      <td>1</td>\n",
       "      <td>NaN</td>\n",
       "      <td>NaN</td>\n",
       "      <td>NaN</td>\n",
       "      <td>0.9989</td>\n",
       "      <td>NaN</td>\n",
       "      <td>outside_VISp</td>\n",
       "      <td>5320.575000</td>\n",
       "      <td>580.937500</td>\n",
       "    </tr>\n",
       "    <tr>\n",
       "      <th>135211</th>\n",
       "      <td>135212</td>\n",
       "      <td>38020.000000</td>\n",
       "      <td>8505.000000</td>\n",
       "      <td>False</td>\n",
       "      <td>1</td>\n",
       "      <td>1</td>\n",
       "      <td>NaN</td>\n",
       "      <td>NaN</td>\n",
       "      <td>NaN</td>\n",
       "      <td>0.9986</td>\n",
       "      <td>NaN</td>\n",
       "      <td>outside_VISp</td>\n",
       "      <td>6178.250000</td>\n",
       "      <td>1382.062500</td>\n",
       "    </tr>\n",
       "  </tbody>\n",
       "</table>\n",
       "<p>135212 rows × 14 columns</p>\n",
       "</div>"
      ],
      "text/plain": [
       "          cell             x             y  has_center  cluster  \\\n",
       "0            1    152.142857  24494.571429       False        3   \n",
       "1            2    128.500000  26559.750000       False        3   \n",
       "2            3    130.833333  26721.833333       False        3   \n",
       "3            4    193.428571  24838.857143       False        3   \n",
       "4            5    214.000000  24864.600000       False        3   \n",
       "...        ...           ...           ...         ...      ...   \n",
       "135207  135208  46897.000000  34441.000000       False        2   \n",
       "135208  135209  20717.000000   6161.000000       False        1   \n",
       "135209  135210  46620.000000   7199.500000       False        2   \n",
       "135210  135211  32742.000000   3575.000000       False        1   \n",
       "135211  135212  38020.000000   8505.000000       False        1   \n",
       "\n",
       "        n_transcripts  density  elongation   area  avg_confidence  \\\n",
       "0                   7  0.04590       2.794  152.5          0.9991   \n",
       "1                   4  0.05714       3.045   70.0          0.9987   \n",
       "2                   6  0.02353       2.440  255.0          0.9881   \n",
       "3                   7  0.02708       9.700  258.5          0.9961   \n",
       "4                   5  0.03953       2.221  126.5          0.9975   \n",
       "...               ...      ...         ...    ...             ...   \n",
       "135207              1      NaN         NaN    NaN          0.9997   \n",
       "135208              2      NaN         NaN    NaN          0.9993   \n",
       "135209              2      NaN         NaN    NaN          0.9995   \n",
       "135210              1      NaN         NaN    NaN          0.9989   \n",
       "135211              1      NaN         NaN    NaN          0.9986   \n",
       "\n",
       "        doublet_score         layer         x_um         y_um  \n",
       "0            0.284900  outside_VISp    24.723214  3980.367857  \n",
       "1                 NaN  outside_VISp    20.881250  4315.959375  \n",
       "2            0.003106  outside_VISp    21.260417  4342.297917  \n",
       "3            0.003106  outside_VISp    31.432143  4036.314286  \n",
       "4            0.137000  outside_VISp    34.775000  4040.497500  \n",
       "...               ...           ...          ...          ...  \n",
       "135207            NaN  outside_VISp  7620.762500  5596.662500  \n",
       "135208            NaN  outside_VISp  3366.512500  1001.162500  \n",
       "135209            NaN        VISp_6  7575.750000  1169.918750  \n",
       "135210            NaN  outside_VISp  5320.575000   580.937500  \n",
       "135211            NaN  outside_VISp  6178.250000  1382.062500  \n",
       "\n",
       "[135212 rows x 14 columns]"
      ]
     },
     "execution_count": 76,
     "metadata": {},
     "output_type": "execute_result"
    }
   ],
   "source": [
    "cell_stats"
   ]
  },
  {
   "cell_type": "code",
   "execution_count": 77,
   "metadata": {},
   "outputs": [],
   "source": [
    "cell_stats.to_csv(\"/Users/brian/Downloads/mouse_visp1_ISS_m_brain_03_PreliminaryCalls_prior/segmentation_cell_stats_BRL_layers.csv\")"
   ]
  },
  {
   "cell_type": "code",
   "execution_count": 72,
   "metadata": {},
   "outputs": [
    {
     "data": {
      "text/plain": [
       "<Points layer 'Points [3]' at 0x1308cc550>"
      ]
     },
     "execution_count": 72,
     "metadata": {},
     "output_type": "execute_result"
    }
   ],
   "source": [
    "v.add_points(cell_stats.loc[cell_stats[\"layer\"]==\"VISp_5\"][[\"x\",\"y\"]].values)"
   ]
  },
  {
   "cell_type": "code",
   "execution_count": 73,
   "metadata": {},
   "outputs": [
    {
     "data": {
      "text/plain": [
       "array(['outside_VISp', 'VISp_1', 'VISp_2/3', 'VISp_4', 'VISp_5', 'VISp_6'],\n",
       "      dtype=object)"
      ]
     },
     "execution_count": 73,
     "metadata": {},
     "output_type": "execute_result"
    }
   ],
   "source": [
    "cell_stats[\"layer\"].unique()"
   ]
  },
  {
   "cell_type": "code",
   "execution_count": null,
   "metadata": {},
   "outputs": [],
   "source": []
  }
 ],
 "metadata": {
  "kernelspec": {
   "display_name": "Python 3",
   "language": "python",
   "name": "python3"
  },
  "language_info": {
   "codemirror_mode": {
    "name": "ipython",
    "version": 3
   },
   "file_extension": ".py",
   "mimetype": "text/x-python",
   "name": "python",
   "nbconvert_exporter": "python",
   "pygments_lexer": "ipython3",
   "version": "3.7.9"
  }
 },
 "nbformat": 4,
 "nbformat_minor": 2
}
