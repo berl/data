{
 "cells": [
  {
   "cell_type": "markdown",
   "metadata": {},
   "source": [
    "## This notebook \n",
    "- loads Christoffer's gapless layer boundaries\n",
    "- combines \"layer 2\" and \"layer 3\" into the conventional L2/3\n",
    "- squares off the ends of the dataset to make sure all cells are within VISp\n",
    "- loads the two combined cell mapping results\n",
    "- corrects their `(x,y)` coordinates into microns\n",
    "- saves new files with the subset of cells within VISp\n",
    "\n"
   ]
  },
  {
   "cell_type": "code",
   "execution_count": 5,
   "metadata": {},
   "outputs": [
    {
     "data": {
      "text/html": [
       "<style>.container { width:100% !important; }</style>"
      ],
      "text/plain": [
       "<IPython.core.display.HTML object>"
      ]
     },
     "metadata": {},
     "output_type": "display_data"
    }
   ],
   "source": [
    "%gui qt\n",
    "import napari\n",
    "import pandas as pd\n",
    "import numpy as np\n",
    "from IPython.core.display import display, HTML\n",
    "display(HTML(\"<style>.container { width:100% !important; }</style>\"))\n",
    "from shapely.geometry import Polygon, Point,LineString,  mapping\n"
   ]
  },
  {
   "cell_type": "code",
   "execution_count": 3,
   "metadata": {},
   "outputs": [],
   "source": [
    "import json\n",
    "import geojson\n"
   ]
  },
  {
   "cell_type": "markdown",
   "metadata": {},
   "source": [
    "## Load a cell x gene table"
   ]
  },
  {
   "cell_type": "code",
   "execution_count": 7,
   "metadata": {},
   "outputs": [],
   "source": [
    "# load one cellxgene table\n",
    "all_cells_geom_mean = pd.read_csv(\"/Users/brian/work/data/data/cellxgene/Allen_MERFISH_df_geom_mean.csv\")\n",
    "all_cells_neg_weight = pd.read_csv(\"/Users/brian/work/data/data/cellxgene/Allen_MERFISH_df_neg_weight.csv\")\n"
   ]
  },
  {
   "cell_type": "code",
   "execution_count": 9,
   "metadata": {},
   "outputs": [],
   "source": [
    "# fix the spatial coordinates- somehow the physical coordinates got lost in Viktor's mapping?\n",
    "all_cells_geom_mean[\"x_um\"] = all_cells_geom_mean[\"x\"]*0.1078+ 1154.\n",
    "all_cells_geom_mean[\"y_um\"] = all_cells_geom_mean[\"y\"]*0.1078+ 4548.\n",
    "\n",
    "\n",
    "all_cells_neg_weight[\"x_um\"] = all_cells_neg_weight[\"x\"]*0.1078+ 1154.\n",
    "all_cells_neg_weight[\"y_um\"] = all_cells_neg_weight[\"y\"]*0.1078+ 4548.\n"
   ]
  },
  {
   "cell_type": "markdown",
   "metadata": {},
   "source": [
    "## Load Christoffer's annotations"
   ]
  },
  {
   "cell_type": "code",
   "execution_count": 74,
   "metadata": {},
   "outputs": [],
   "source": [
    "with open(\"/Users/brian/work/data/data/annotations/MERFISH_layer_annotation_7_layers_no_gap.json\",'r') as r:\n",
    "    cml_annotations = geojson.load(r)\n",
    "# these need to be converted to microns as well:\n",
    "for geo in cml_annotations:\n",
    "    shape_coordinates = np.array(geo[\"coordinates\"][0])\n",
    "    shape_coordinates[:,0] = shape_coordinates[:,0]*0.1078+ 1154.\n",
    "    shape_coordinates[:,1] = shape_coordinates[:,1]*0.1078+ 4548.\n",
    "    geo[\"coordinates\"][0] = [[shape_coordinates[i,0],shape_coordinates[i,1]] for i in range(shape_coordinates.shape[0])]\n",
    "    \n",
    "# and save revised version to disk:\n",
    "\n",
    "with open(\"/Users/brian/work/data/data/annotations/MERFISH_layer_annotation_7_layers_no_gap_um.json\", 'w') as w:\n",
    "    geojson.dump(cml_annotations, w)"
   ]
  },
  {
   "cell_type": "markdown",
   "metadata": {},
   "source": [
    "## Make a napari viewer..."
   ]
  },
  {
   "cell_type": "code",
   "execution_count": 6,
   "metadata": {},
   "outputs": [],
   "source": [
    "v = napari.Viewer()"
   ]
  },
  {
   "cell_type": "code",
   "execution_count": 28,
   "metadata": {},
   "outputs": [],
   "source": [
    "# add cell locations\n",
    "cell_plots = v.add_points(all_cells_geom_mean[[\"x_um\",\"y_um\"]], symbol='disc',\n",
    "                                 name = \"all_cells_geom_mean\",edge_color= [0,0,0,0], size = 10.5,\n",
    "                                 face_color= 'b' , blending = \"translucent\", opacity = 0.8)"
   ]
  },
  {
   "cell_type": "code",
   "execution_count": 29,
   "metadata": {},
   "outputs": [],
   "source": [
    "# Christoffer's annotations.\n",
    "# note that these need to be converted to microns as well\n",
    "for geo in cml_annotations:\n",
    "    shape_coordinates = np.array(geo[\"coordinates\"][0])\n",
    "\n",
    "    v.add_shapes([shape_coordinates] ,\n",
    "        shape_type='polygon',\n",
    "        edge_width=1,\n",
    "        edge_color='coral',\n",
    "        face_color='royalblue',\n",
    "        name=geo[\"name\"])"
   ]
  },
  {
   "cell_type": "code",
   "execution_count": 30,
   "metadata": {},
   "outputs": [],
   "source": [
    "# Brian's annotations are generally in agreement on the layers, but limited the data to within VISp\n",
    "with open(\"/Users/brian/Allen_MERFISH_annotations_geo.json\",'r') as r:\n",
    "    shapejson = geojson.load(r)\n",
    "    \n",
    "#last element in the geojson file is the column axis, so ignore it for now\n",
    "layer_annotations = shapejson[\"geometries\"][:-1]"
   ]
  },
  {
   "cell_type": "code",
   "execution_count": 32,
   "metadata": {},
   "outputs": [
    {
     "data": {
      "text/plain": [
       "[{\"coordinates\": [[[2524.861858, 6576.111949], [1658.000542, 5844.070207], [1559.125931, 5745.776194], [2149.632232, 4876.052856], [2299.438471, 4923.428033], [3273.661058, 5452.419069], [2851.624504, 6284.883774], [2851.624504, 6284.883774], [2524.861858, 6576.111949]]], \"name\": \"VISp\", \"type\": \"Polygon\"},\n",
       " {\"coordinates\": [[[2886.383551, 6001.306753], [2658.741191, 6301.073425], [2726.357734, 6283.042347], [2839.051971, 6132.032068], [2839.051971, 6132.032068], [2886.383551, 6001.306753]]], \"name\": \"VISp_I\", \"type\": \"Polygon\"},\n",
       " {\"coordinates\": [[[2457.148294, 6515.509647], [2614.174367, 6329.851777], [2693.358861, 6242.475784], [2974.600339, 5917.54631], [3165.735324, 5491.588343], [3191.036316, 5415.620914], [2874.087247, 5243.940168], [2843.536349, 5325.027856], [2709.741859, 5636.304831], [2600.521868, 5865.666814], [2499.493376, 6059.532298], [2261.939894, 6288.894281], [2226.982898, 6323.076284], [2457.148294, 6515.509647]]], \"name\": \"VISp_II/III\", \"type\": \"Polygon\"},\n",
       " {\"coordinates\": [[[2210.003484, 6332.509292], [2221.323093, 6321.189682], [2502.426732, 6043.859247], [2636.375446, 5781.621624], [2721.272518, 5598.621269], [2874.087247, 5234.50716], [2777.870566, 5185.455518], [2602.416617, 5577.868651], [2508.086537, 5775.96182], [2402.436847, 5947.642565], [2151.518834, 6260.818431], [2210.003484, 6332.509292]]], \"name\": \"VISp_IV\", \"type\": \"Polygon\"},\n",
       " {\"coordinates\": [[[2143.972428, 6257.045228], [2145.859029, 6257.045228], [2393.003839, 5955.188972], [2498.653529, 5775.96182], [2611.849625, 5549.569627], [2770.324159, 5181.682315], [2515.632943, 5042.073797], [2470.354505, 5174.135909], [2293.013954, 5564.66244], [2074.168168, 5923.116744], [1940.219455, 6083.477881], [2143.972428, 6257.045228]]], \"name\": \"VISp_V\", \"type\": \"Polygon\"},\n",
       " {\"coordinates\": [[[1934.55965, 6074.044873], [1940.219455, 6068.385068], [2072.281567, 5913.683736], [2215.663289, 5685.404943], [2291.127353, 5562.775839], [2468.467903, 5162.816299], [2506.199935, 5042.073797], [2304.333564, 4932.650904], [2232.642703, 5072.259422], [2094.920786, 5281.6722], [1928.899845, 5513.724197], [1685.528238, 5868.405298], [1934.55965, 6074.044873]]], \"name\": \"VISp_VI\", \"type\": \"Polygon\"},\n",
       " {\"coordinates\": [[[2159.06524, 4879.826059], [2093.034184, 5015.661374], [1891.167813, 5319.404232], [1562.899134, 5751.435999], [1676.09523, 5857.085688], [2162.838444, 5149.610088], [2291.127353, 4925.104497], [2159.06524, 4879.826059]]], \"name\": \"VISp_wm\", \"type\": \"Polygon\"}]"
      ]
     },
     "execution_count": 32,
     "metadata": {},
     "output_type": "execute_result"
    }
   ],
   "source": [
    "layer_annotations"
   ]
  },
  {
   "cell_type": "code",
   "execution_count": 31,
   "metadata": {},
   "outputs": [],
   "source": [
    "for geo in layer_annotations:\n",
    "    shape_coordinates = np.array(geo[\"coordinates\"][0])\n",
    "    v.add_shapes([shape_coordinates] ,\n",
    "        shape_type='polygon',\n",
    "        edge_width=1,\n",
    "        edge_color='coral',\n",
    "        face_color='royalblue',\n",
    "        name=geo[\"name\"])"
   ]
  },
  {
   "cell_type": "markdown",
   "metadata": {},
   "source": [
    "## use `shapely` to assign regions to cells"
   ]
  },
  {
   "cell_type": "code",
   "execution_count": 71,
   "metadata": {},
   "outputs": [],
   "source": [
    "# we need to label all the cells with Christoffer's layers (except the 2/3 thing) but cut off the region boundaries according to Brian's VISp boundary:\n",
    "\n",
    "# first identify those inside Brian's VISp boundary\n",
    "cell_is_in_layer = {p[\"name\"]:[Polygon(p[\"coordinates\"][0]).intersects(Point(a)) \n",
    "                               for a  in all_cells_geom_mean[[\"x_um\",\"y_um\"]].values] for ii,p in enumerate(layer_annotations) }\n",
    "\n",
    "\n",
    "all_cells_geom_mean[\"layer\"] = \"outside_VISp\"\n",
    "for k in cell_is_in_layer.keys():\n",
    "    all_cells_geom_mean.loc[cell_is_in_layer[k],[\"layer\"]] = k\n",
    "\n",
    "# now assign layer values based on Christoffer's layers:\n",
    "cell_is_in_layer = {p[\"name\"]:[Polygon(p[\"coordinates\"][0]).intersects(Point(a[0:2])) and a[2] not in \"outside_VISp\"\n",
    "                               for a  in all_cells_geom_mean[[\"x_um\",\"y_um\",\"layer\"]].values] for ii,p in enumerate(cml_annotations) }\n",
    "\n",
    "for k in cell_is_in_layer.keys():\n",
    "    if \"L2\" in k or \"L3\" in k:\n",
    "        \n",
    "        all_cells_geom_mean.loc[cell_is_in_layer[k],[\"layer\"]] = \"L2/3\"\n",
    "    else:\n",
    "        all_cells_geom_mean.loc[cell_is_in_layer[k],[\"layer\"]] = k\n",
    "        \n",
    "        \n",
    "        \n",
    "# eliminate cells outside VISp:\n",
    "all_cells_geom_mean = all_cells_geom_mean[all_cells_geom_mean[\"layer\"] != \"outside_VISp\"]\n"
   ]
  },
  {
   "cell_type": "code",
   "execution_count": 72,
   "metadata": {},
   "outputs": [],
   "source": [
    "## repeat for the other combined annotation result :\n",
    "\n",
    "# first identify those inside Brian's VISp boundary\n",
    "cell_is_in_layer_neg_weight = {p[\"name\"]:[Polygon(p[\"coordinates\"][0]).intersects(Point(a)) \n",
    "                               for a  in all_cells_neg_weight[[\"x_um\",\"y_um\"]].values] for ii,p in enumerate(layer_annotations) }\n",
    "\n",
    "\n",
    "all_cells_neg_weight[\"layer\"] = \"outside_VISp\"\n",
    "for k in cell_is_in_layer_neg_weight.keys():\n",
    "    all_cells_neg_weight.loc[cell_is_in_layer_neg_weight[k],[\"layer\"]] = k\n",
    "\n",
    "# now assign layer values based on Christoffer's layers:\n",
    "cell_is_in_layer_neg_weight = {p[\"name\"]:[Polygon(p[\"coordinates\"][0]).intersects(Point(a[0:2])) and a[2] not in \"outside_VISp\"\n",
    "                               for a  in all_cells_neg_weight[[\"x_um\",\"y_um\",\"layer\"]].values] for ii,p in enumerate(cml_annotations) }\n",
    "\n",
    "for k in cell_is_in_layer_neg_weight.keys():\n",
    "    if \"L2\" in k or \"L3\" in k:\n",
    "        \n",
    "        all_cells_neg_weight.loc[cell_is_in_layer_neg_weight[k],[\"layer\"]] = \"L2/3\"\n",
    "    else:\n",
    "        all_cells_neg_weight.loc[cell_is_in_layer_neg_weight[k],[\"layer\"]] = k\n",
    "        \n",
    "        \n",
    "# eliminate cells outside VISp:\n",
    "all_cells_neg_weight = all_cells_neg_weight.loc[all_cells_neg_weight[\"layer\"] != \"outside_VISp\"]\n"
   ]
  },
  {
   "cell_type": "code",
   "execution_count": 73,
   "metadata": {},
   "outputs": [],
   "source": [
    "# save these results to .csv files\n",
    "all_cells_geom_mean.to_csv(\"/Users/brian/work/data/data/cellxgene/Allen_MERFISH_df_geom_mean_LAYER_ANNOTATIONS.csv\", index = False)\n",
    "\n",
    "all_cells_neg_weight.to_csv(\"/Users/brian/work/data/data/cellxgene/Allen_MERFISH_df_neg_weight_LAYER_ANNOTATIONS.csv\", index = False)"
   ]
  },
  {
   "cell_type": "code",
   "execution_count": null,
   "metadata": {},
   "outputs": [],
   "source": [
    "#"
   ]
  }
 ],
 "metadata": {
  "kernelspec": {
   "display_name": "Python 3",
   "language": "python",
   "name": "python3"
  },
  "language_info": {
   "codemirror_mode": {
    "name": "ipython",
    "version": 3
   },
   "file_extension": ".py",
   "mimetype": "text/x-python",
   "name": "python",
   "nbconvert_exporter": "python",
   "pygments_lexer": "ipython3",
   "version": "3.7.9"
  }
 },
 "nbformat": 4,
 "nbformat_minor": 2
}
