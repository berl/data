{
 "cells": [
  {
   "cell_type": "markdown",
   "metadata": {},
   "source": [
    "## This notebook \n",
    "- loads Christoffer's gapless layer boundaries\n",
    "- combines \"layer 2\" and \"layer 3\" into the conventional L2/3\n",
    "- squares off the ends of the dataset to make sure all cells are within VISp\n",
    "- loads the two combined cell mapping results\n",
    "- corrects their `(x,y)` coordinates into microns\n",
    "- saves new files with the subset of cells within VISp\n",
    "\n"
   ]
  },
  {
   "cell_type": "code",
   "execution_count": 1,
   "metadata": {},
   "outputs": [
    {
     "data": {
      "text/html": [
       "<style>.container { width:100% !important; }</style>"
      ],
      "text/plain": [
       "<IPython.core.display.HTML object>"
      ]
     },
     "metadata": {},
     "output_type": "display_data"
    }
   ],
   "source": [
    "%gui qt\n",
    "import napari\n",
    "import pandas as pd\n",
    "import numpy as np\n",
    "from IPython.core.display import display, HTML\n",
    "display(HTML(\"<style>.container { width:100% !important; }</style>\"))\n",
    "from shapely.geometry import Polygon, Point,LineString,  mapping\n",
    "from shapely.ops import cascaded_union\n",
    "from spacetx_spatial_analysis import polyToGeoJson\n",
    "import json\n",
    "import geojson"
   ]
  },
  {
   "cell_type": "markdown",
   "metadata": {},
   "source": [
    "## Load a cell x gene table"
   ]
  },
  {
   "cell_type": "code",
   "execution_count": 2,
   "metadata": {},
   "outputs": [],
   "source": [
    "# load one cellxgene table\n",
    "all_cells_geom_mean = pd.read_csv(\"/Users/brian/work/data/data/cellxgene/Allen_MERFISH_df_geom_mean.csv\")\n",
    "all_cells_neg_weight = pd.read_csv(\"/Users/brian/work/data/data/cellxgene/Allen_MERFISH_df_neg_weight.csv\")\n"
   ]
  },
  {
   "cell_type": "code",
   "execution_count": 3,
   "metadata": {},
   "outputs": [],
   "source": [
    "# fix the spatial coordinates- somehow the physical coordinates got lost in Viktor's mapping?\n",
    "all_cells_geom_mean[\"x_um\"] = all_cells_geom_mean[\"x\"]*0.1078+ 1154.\n",
    "all_cells_geom_mean[\"y_um\"] = all_cells_geom_mean[\"y\"]*0.1078+ 4548.\n",
    "\n",
    "\n",
    "all_cells_neg_weight[\"x_um\"] = all_cells_neg_weight[\"x\"]*0.1078+ 1154.\n",
    "all_cells_neg_weight[\"y_um\"] = all_cells_neg_weight[\"y\"]*0.1078+ 4548.\n"
   ]
  },
  {
   "cell_type": "markdown",
   "metadata": {},
   "source": [
    "## Load Christoffer's annotations"
   ]
  },
  {
   "cell_type": "code",
   "execution_count": 6,
   "metadata": {},
   "outputs": [],
   "source": [
    "with open(\"/Users/brian/work/data/data/annotations/MERFISH_layer_annotation_7_layers_no_gap.json\",'r') as r:\n",
    "    cml_annotations = geojson.load(r)\n",
    "# these need to be converted to microns as well:\n",
    "for geo in cml_annotations:\n",
    "    shape_coordinates = np.array(geo[\"coordinates\"][0])\n",
    "    shape_coordinates[:,0] = shape_coordinates[:,0]*0.1078+ 1154.\n",
    "    shape_coordinates[:,1] = shape_coordinates[:,1]*0.1078+ 4548.\n",
    "    geo[\"coordinates\"][0] = [[shape_coordinates[i,0],shape_coordinates[i,1]] for i in range(shape_coordinates.shape[0])]\n",
    "    \n",
    "# and save revised version to disk:\n",
    "\n",
    "with open(\"/Users/brian/work/data/data/annotations/MERFISH_layer_annotation_7_layers_no_gap_um.json\", 'w') as w:\n",
    "    geojson.dump(cml_annotations, w)"
   ]
  },
  {
   "cell_type": "markdown",
   "metadata": {},
   "source": [
    "## Make a napari viewer..."
   ]
  },
  {
   "cell_type": "code",
   "execution_count": 4,
   "metadata": {},
   "outputs": [],
   "source": [
    "v = napari.Viewer()"
   ]
  },
  {
   "cell_type": "code",
   "execution_count": 5,
   "metadata": {},
   "outputs": [],
   "source": [
    "# add cell locations\n",
    "cell_plots = v.add_points(all_cells_geom_mean[[\"x_um\",\"y_um\"]], symbol='disc',\n",
    "                                 name = \"all_cells_geom_mean\",edge_color= [0,0,0,0], size = 10.5,\n",
    "                                 face_color= 'b' , blending = \"translucent\", opacity = 0.8)"
   ]
  },
  {
   "cell_type": "code",
   "execution_count": null,
   "metadata": {},
   "outputs": [],
   "source": [
    "# Christoffer's annotations.\n",
    "# note that these need to be converted to microns as well\n",
    "for geo in cml_annotations:\n",
    "    shape_coordinates = np.array(geo[\"coordinates\"][0])\n",
    "\n",
    "    v.add_shapes([shape_coordinates] ,\n",
    "        shape_type='polygon',\n",
    "        edge_width=1,\n",
    "        edge_color='coral',\n",
    "        face_color='royalblue',\n",
    "        name=geo[\"name\"])"
   ]
  },
  {
   "cell_type": "code",
   "execution_count": 7,
   "metadata": {},
   "outputs": [],
   "source": [
    "# Brian's annotations are generally in agreement on the layers, but limited the data to within VISp\n",
    "with open(\"/Users/brian/Allen_MERFISH_annotations_geo.json\",'r') as r:\n",
    "    shapejson = geojson.load(r)\n",
    "    \n",
    "#last element in the geojson file is the column axis, so ignore it for now\n",
    "layer_annotations = shapejson[\"geometries\"][:-1]"
   ]
  },
  {
   "cell_type": "code",
   "execution_count": null,
   "metadata": {},
   "outputs": [],
   "source": [
    "layer_annotations"
   ]
  },
  {
   "cell_type": "code",
   "execution_count": null,
   "metadata": {},
   "outputs": [],
   "source": [
    "for geo in layer_annotations:\n",
    "    shape_coordinates = np.array(geo[\"coordinates\"][0])\n",
    "    v.add_shapes([shape_coordinates] ,\n",
    "        shape_type='polygon',\n",
    "        edge_width=1,\n",
    "        edge_color='coral',\n",
    "        face_color='royalblue',\n",
    "        name=geo[\"name\"])"
   ]
  },
  {
   "cell_type": "markdown",
   "metadata": {},
   "source": [
    "## use `shapely` to assign regions to cells"
   ]
  },
  {
   "cell_type": "code",
   "execution_count": null,
   "metadata": {},
   "outputs": [],
   "source": [
    "# we need to label all the cells with Christoffer's layers (except the 2/3 thing) but cut off the region boundaries according to Brian's VISp boundary:\n",
    "\n",
    "# first identify those inside Brian's VISp boundary\n",
    "cell_is_in_layer = {p[\"name\"]:[Polygon(p[\"coordinates\"][0]).intersects(Point(a)) \n",
    "                               for a  in all_cells_geom_mean[[\"x_um\",\"y_um\"]].values] for ii,p in enumerate(layer_annotations) }\n",
    "\n",
    "\n",
    "all_cells_geom_mean[\"layer\"] = \"outside_VISp\"\n",
    "for k in cell_is_in_layer.keys():\n",
    "    all_cells_geom_mean.loc[cell_is_in_layer[k],[\"layer\"]] = k\n",
    "\n",
    "# now assign layer values based on Christoffer's layers:\n",
    "cell_is_in_layer = {p[\"name\"]:[Polygon(p[\"coordinates\"][0]).intersects(Point(a[0:2])) and a[2] not in \"outside_VISp\"\n",
    "                               for a  in all_cells_geom_mean[[\"x_um\",\"y_um\",\"layer\"]].values] for ii,p in enumerate(cml_annotations) }\n",
    "\n",
    "for k in cell_is_in_layer.keys():\n",
    "    if \"L2\" in k or \"L3\" in k:\n",
    "        \n",
    "        all_cells_geom_mean.loc[cell_is_in_layer[k],[\"layer\"]] = \"L2/3\"\n",
    "    else:\n",
    "        all_cells_geom_mean.loc[cell_is_in_layer[k],[\"layer\"]] = k\n",
    "        \n",
    "        \n",
    "        \n",
    "# eliminate cells outside VISp:\n",
    "all_cells_geom_mean = all_cells_geom_mean[all_cells_geom_mean[\"layer\"] != \"outside_VISp\"]\n"
   ]
  },
  {
   "cell_type": "code",
   "execution_count": null,
   "metadata": {},
   "outputs": [],
   "source": [
    "## repeat for the other combined annotation result :\n",
    "\n",
    "# first identify those inside Brian's VISp boundary\n",
    "cell_is_in_layer_neg_weight = {p[\"name\"]:[Polygon(p[\"coordinates\"][0]).intersects(Point(a)) \n",
    "                               for a  in all_cells_neg_weight[[\"x_um\",\"y_um\"]].values] for ii,p in enumerate(layer_annotations) }\n",
    "\n",
    "\n",
    "all_cells_neg_weight[\"layer\"] = \"outside_VISp\"\n",
    "for k in cell_is_in_layer_neg_weight.keys():\n",
    "    all_cells_neg_weight.loc[cell_is_in_layer_neg_weight[k],[\"layer\"]] = k\n",
    "\n",
    "# now assign layer values based on Christoffer's layers:\n",
    "cell_is_in_layer_neg_weight = {p[\"name\"]:[Polygon(p[\"coordinates\"][0]).intersects(Point(a[0:2])) and a[2] not in \"outside_VISp\"\n",
    "                               for a  in all_cells_neg_weight[[\"x_um\",\"y_um\",\"layer\"]].values] for ii,p in enumerate(cml_annotations) }\n",
    "\n",
    "for k in cell_is_in_layer_neg_weight.keys():\n",
    "    if \"L2\" in k or \"L3\" in k:\n",
    "        \n",
    "        all_cells_neg_weight.loc[cell_is_in_layer_neg_weight[k],[\"layer\"]] = \"L2/3\"\n",
    "    else:\n",
    "        all_cells_neg_weight.loc[cell_is_in_layer_neg_weight[k],[\"layer\"]] = k\n",
    "        \n",
    "        \n",
    "# eliminate cells outside VISp:\n",
    "all_cells_neg_weight = all_cells_neg_weight.loc[all_cells_neg_weight[\"layer\"] != \"outside_VISp\"]\n"
   ]
  },
  {
   "cell_type": "code",
   "execution_count": null,
   "metadata": {},
   "outputs": [],
   "source": [
    "# save these results to .csv files\n",
    "all_cells_geom_mean.to_csv(\"/Users/brian/work/data/data/cellxgene/Allen_MERFISH_df_geom_mean_LAYER_ANNOTATIONS.csv\", index = False)\n",
    "\n",
    "all_cells_neg_weight.to_csv(\"/Users/brian/work/data/data/cellxgene/Allen_MERFISH_df_neg_weight_LAYER_ANNOTATIONS.csv\", index = False)"
   ]
  },
  {
   "cell_type": "markdown",
   "metadata": {},
   "source": [
    "## alternatively, merge the annotations to create a single geojson:\n",
    "\n",
    "\n"
   ]
  },
  {
   "cell_type": "code",
   "execution_count": 8,
   "metadata": {},
   "outputs": [],
   "source": [
    "L23Poly = cascaded_union([Polygon( cml_annotations[1][\"coordinates\"][0]),Polygon( cml_annotations[2][\"coordinates\"][0])])\n",
    "L23geojson = geojson.Polygon(L23Poly.exterior.coords)\n",
    "L23geojson[\"name\"] = \"Layer 2/3\"\n",
    "L23geojson[\"coordinates\"] = [L23geojson[\"coordinates\"]]\n",
    "final_annotations = [annot for annot in cml_annotations if annot[\"name\"] not in [\"L2_polygon_uncut\", \"L3_polygon_uncut\"]]\n",
    "final_annotations.append(L23geojson)\n",
    "annotation_gc = geojson.GeometryCollection(final_annotations)\n",
    "VISpPoly = cascaded_union([Polygon( annot[\"coordinates\"][0]) for annot in layer_annotations])"
   ]
  },
  {
   "cell_type": "code",
   "execution_count": 9,
   "metadata": {},
   "outputs": [],
   "source": [
    "outputPolys = [VISpPoly.intersection( Polygon(annot[\"coordinates\"][0])) for annot in annotation_gc[\"geometries\"]]\n",
    "for ii,op in enumerate(annotation_gc[\"geometries\"]):\n",
    "    op[\"coordinates\"][0] = geojson.Polygon(outputPolys[ii].exterior.coords)[\"coordinates\"]\n",
    "    if \"polygon_uncut\" in op[\"name\"]:\n",
    "        op[\"name\"] = op[\"name\"].split(\"_polygon_uncut\")[0]"
   ]
  },
  {
   "cell_type": "code",
   "execution_count": 10,
   "metadata": {},
   "outputs": [],
   "source": [
    "with open(\"Allen_MERFISH_Layers.geojson\", 'w') as w:\n",
    "    geojson.dump(annotation_gc, w)"
   ]
  },
  {
   "cell_type": "code",
   "execution_count": 8,
   "metadata": {},
   "outputs": [],
   "source": [
    "for geo in annotation_gc[\"geometries\"]:\n",
    "    shape_coordinates = np.array(geo[\"coordinates\"][0])\n",
    "    v.add_shapes([shape_coordinates] ,\n",
    "        shape_type='polygon',\n",
    "        edge_width=1,\n",
    "        edge_color='coral',\n",
    "        face_color='royalblue',\n",
    "        name=geo[\"name\"])"
   ]
  },
  {
   "cell_type": "code",
   "execution_count": null,
   "metadata": {},
   "outputs": [],
   "source": [
    "annotation_gc\n"
   ]
  },
  {
   "cell_type": "code",
   "execution_count": 7,
   "metadata": {},
   "outputs": [],
   "source": [
    "with open(\"Allen_MERFISH_Layers.geojson\", 'r') as r:\n",
    "    annotation_gc = geojson.load(r)"
   ]
  },
  {
   "cell_type": "code",
   "execution_count": null,
   "metadata": {},
   "outputs": [],
   "source": []
  }
 ],
 "metadata": {
  "kernelspec": {
   "display_name": "Python 3",
   "language": "python",
   "name": "python3"
  },
  "language_info": {
   "codemirror_mode": {
    "name": "ipython",
    "version": 3
   },
   "file_extension": ".py",
   "mimetype": "text/x-python",
   "name": "python",
   "nbconvert_exporter": "python",
   "pygments_lexer": "ipython3",
   "version": "3.7.9"
  }
 },
 "nbformat": 4,
 "nbformat_minor": 2
}
