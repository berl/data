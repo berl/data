{
 "cells": [
  {
   "cell_type": "code",
   "execution_count": 1,
   "metadata": {},
   "outputs": [
    {
     "data": {
      "text/html": [
       "<style>.container { width:100% !important; }</style>"
      ],
      "text/plain": [
       "<IPython.core.display.HTML object>"
      ]
     },
     "metadata": {},
     "output_type": "display_data"
    }
   ],
   "source": [
    "%gui qt\n",
    "import napari\n",
    "import pandas as pd\n",
    "import numpy as np\n",
    "from IPython.core.display import display, HTML\n",
    "display(HTML(\"<style>.container { width:100% !important; }</style>\"))\n",
    "from shapely.geometry import Polygon, Point,LineString,  mapping\n"
   ]
  },
  {
   "cell_type": "code",
   "execution_count": 2,
   "metadata": {},
   "outputs": [],
   "source": [
    "import json\n",
    "import geojson\n",
    "import pathlib\n"
   ]
  },
  {
   "cell_type": "markdown",
   "metadata": {},
   "source": [
    "## Make a napari viewer..."
   ]
  },
  {
   "cell_type": "code",
   "execution_count": 3,
   "metadata": {},
   "outputs": [],
   "source": [
    "v = napari.Viewer()"
   ]
  },
  {
   "cell_type": "markdown",
   "metadata": {},
   "source": [
    "## Load Cell table from 1 dataset"
   ]
  },
  {
   "cell_type": "code",
   "execution_count": 4,
   "metadata": {},
   "outputs": [],
   "source": [
    "# downloaded Baysor-segmented data for Baristaseq\n",
    "cell_stats = pd.read_csv(\"/Users/brian/Downloads/barista_seq_updated/segmentation_cell_stats.csv\")\n"
   ]
  },
  {
   "cell_type": "code",
   "execution_count": 5,
   "metadata": {},
   "outputs": [
    {
     "data": {
      "text/plain": [
       "<Points layer 'Points' at 0x12d2d34d0>"
      ]
     },
     "execution_count": 5,
     "metadata": {},
     "output_type": "execute_result"
    }
   ],
   "source": [
    "# add the cells to the napari viewer\n",
    "v.add_points(cell_stats[[\"x\",\"y\"]].values)"
   ]
  },
  {
   "cell_type": "code",
   "execution_count": 6,
   "metadata": {},
   "outputs": [],
   "source": [
    "\n",
    "# Brian's layer segmentation and restriction of cells to a rectangular region that includes roughly equal area in each layer\n",
    "\n",
    "\n",
    "\n",
    "with open(\"/Users/brian/Downloads/baristaseq_annotations_geo.json\", 'r') as r:\n",
    "    layer_geojson = geojson.load(r)\n",
    "    \n",
    "layer_data_brl = {layer_annotation[\"name\"]:np.array(layer_annotation[\"coordinates\"][0]) \n",
    "                  for layer_annotation in layer_geojson[\"geometries\"] if layer_annotation[\"name\"] not in [\"column_axis\"]}\n",
    "\n"
   ]
  },
  {
   "cell_type": "code",
   "execution_count": 7,
   "metadata": {},
   "outputs": [
    {
     "data": {
      "text/plain": [
       "<Shapes layer 'BRL' at 0x10db83d10>"
      ]
     },
     "execution_count": 7,
     "metadata": {},
     "output_type": "execute_result"
    }
   ],
   "source": [
    "# add the polygons to the viewer\n",
    "v.add_shapes([layer_data_brl[layer_name] for layer_name in layer_data_brl.keys()],shape_type='polygon', edge_width=1,\n",
    "    edge_color='coral',\n",
    "    face_color='royalblue',\n",
    "    name=\"Layers\")"
   ]
  },
  {
   "cell_type": "code",
   "execution_count": 8,
   "metadata": {},
   "outputs": [],
   "source": [
    "# Use layers to annotate the cell x gene data\n",
    "brl_layers = v.layers[-1]\n",
    "is_in_layer = {ii:[Polygon(layer_data_brl[p]).intersects(Point(a))  for a  in cell_stats[[\"x\",\"y\"]].values] for ii,p in enumerate(layer_data_brl.keys())}"
   ]
  },
  {
   "cell_type": "code",
   "execution_count": 9,
   "metadata": {},
   "outputs": [],
   "source": [
    "annotation_names = [\"VISp\", \"VISp_1\", \"VISp_2/3\", \"VISp_4\", \"VISp_5\",\"VISp_6\", \"VISp_wm\", \"column_axis\"]\n",
    "\n",
    "\n",
    "cell_stats[\"layer\"] = \"outside_VISp\"\n",
    "for k in is_in_layer.keys():\n",
    "    cell_stats.loc[is_in_layer[k],[\"layer\"]] = annotation_names[k]\n"
   ]
  },
  {
   "cell_type": "code",
   "execution_count": 10,
   "metadata": {},
   "outputs": [
    {
     "data": {
      "text/html": [
       "<div>\n",
       "<style scoped>\n",
       "    .dataframe tbody tr th:only-of-type {\n",
       "        vertical-align: middle;\n",
       "    }\n",
       "\n",
       "    .dataframe tbody tr th {\n",
       "        vertical-align: top;\n",
       "    }\n",
       "\n",
       "    .dataframe thead th {\n",
       "        text-align: right;\n",
       "    }\n",
       "</style>\n",
       "<table border=\"1\" class=\"dataframe\">\n",
       "  <thead>\n",
       "    <tr style=\"text-align: right;\">\n",
       "      <th></th>\n",
       "      <th>cell</th>\n",
       "      <th>x</th>\n",
       "      <th>y</th>\n",
       "      <th>has_center</th>\n",
       "      <th>cluster</th>\n",
       "      <th>n_transcripts</th>\n",
       "      <th>density</th>\n",
       "      <th>elongation</th>\n",
       "      <th>area</th>\n",
       "      <th>avg_confidence</th>\n",
       "      <th>doublet_score</th>\n",
       "      <th>layer</th>\n",
       "    </tr>\n",
       "  </thead>\n",
       "  <tbody>\n",
       "    <tr>\n",
       "      <th>0</th>\n",
       "      <td>1</td>\n",
       "      <td>19.142500</td>\n",
       "      <td>179.994429</td>\n",
       "      <td>False</td>\n",
       "      <td>3</td>\n",
       "      <td>70</td>\n",
       "      <td>0.9425</td>\n",
       "      <td>3.624</td>\n",
       "      <td>74.2700</td>\n",
       "      <td>0.9870</td>\n",
       "      <td>0.497700</td>\n",
       "      <td>outside_VISp</td>\n",
       "    </tr>\n",
       "    <tr>\n",
       "      <th>1</th>\n",
       "      <td>2</td>\n",
       "      <td>18.728989</td>\n",
       "      <td>240.994511</td>\n",
       "      <td>False</td>\n",
       "      <td>3</td>\n",
       "      <td>47</td>\n",
       "      <td>0.9683</td>\n",
       "      <td>9.837</td>\n",
       "      <td>48.5400</td>\n",
       "      <td>0.9961</td>\n",
       "      <td>0.003106</td>\n",
       "      <td>outside_VISp</td>\n",
       "    </tr>\n",
       "    <tr>\n",
       "      <th>2</th>\n",
       "      <td>3</td>\n",
       "      <td>19.650893</td>\n",
       "      <td>251.944857</td>\n",
       "      <td>False</td>\n",
       "      <td>4</td>\n",
       "      <td>28</td>\n",
       "      <td>1.1160</td>\n",
       "      <td>1.274</td>\n",
       "      <td>25.1000</td>\n",
       "      <td>0.9860</td>\n",
       "      <td>NaN</td>\n",
       "      <td>outside_VISp</td>\n",
       "    </tr>\n",
       "    <tr>\n",
       "      <th>3</th>\n",
       "      <td>4</td>\n",
       "      <td>21.228078</td>\n",
       "      <td>282.335448</td>\n",
       "      <td>False</td>\n",
       "      <td>2</td>\n",
       "      <td>134</td>\n",
       "      <td>0.9011</td>\n",
       "      <td>2.932</td>\n",
       "      <td>148.7000</td>\n",
       "      <td>0.9964</td>\n",
       "      <td>0.061940</td>\n",
       "      <td>outside_VISp</td>\n",
       "    </tr>\n",
       "    <tr>\n",
       "      <th>4</th>\n",
       "      <td>5</td>\n",
       "      <td>21.100798</td>\n",
       "      <td>308.535787</td>\n",
       "      <td>False</td>\n",
       "      <td>3</td>\n",
       "      <td>47</td>\n",
       "      <td>1.0400</td>\n",
       "      <td>3.898</td>\n",
       "      <td>45.2000</td>\n",
       "      <td>0.9991</td>\n",
       "      <td>0.035630</td>\n",
       "      <td>outside_VISp</td>\n",
       "    </tr>\n",
       "    <tr>\n",
       "      <th>...</th>\n",
       "      <td>...</td>\n",
       "      <td>...</td>\n",
       "      <td>...</td>\n",
       "      <td>...</td>\n",
       "      <td>...</td>\n",
       "      <td>...</td>\n",
       "      <td>...</td>\n",
       "      <td>...</td>\n",
       "      <td>...</td>\n",
       "      <td>...</td>\n",
       "      <td>...</td>\n",
       "      <td>...</td>\n",
       "    </tr>\n",
       "    <tr>\n",
       "      <th>10714</th>\n",
       "      <td>10715</td>\n",
       "      <td>253.218250</td>\n",
       "      <td>592.672500</td>\n",
       "      <td>False</td>\n",
       "      <td>2</td>\n",
       "      <td>12</td>\n",
       "      <td>1.9000</td>\n",
       "      <td>2.278</td>\n",
       "      <td>6.3170</td>\n",
       "      <td>0.9983</td>\n",
       "      <td>NaN</td>\n",
       "      <td>outside_VISp</td>\n",
       "    </tr>\n",
       "    <tr>\n",
       "      <th>10715</th>\n",
       "      <td>10716</td>\n",
       "      <td>321.392500</td>\n",
       "      <td>801.450000</td>\n",
       "      <td>False</td>\n",
       "      <td>2</td>\n",
       "      <td>2</td>\n",
       "      <td>NaN</td>\n",
       "      <td>NaN</td>\n",
       "      <td>NaN</td>\n",
       "      <td>0.9986</td>\n",
       "      <td>NaN</td>\n",
       "      <td>VISp_2/3</td>\n",
       "    </tr>\n",
       "    <tr>\n",
       "      <th>10716</th>\n",
       "      <td>10717</td>\n",
       "      <td>896.513000</td>\n",
       "      <td>967.688000</td>\n",
       "      <td>False</td>\n",
       "      <td>1</td>\n",
       "      <td>1</td>\n",
       "      <td>NaN</td>\n",
       "      <td>NaN</td>\n",
       "      <td>NaN</td>\n",
       "      <td>0.9709</td>\n",
       "      <td>NaN</td>\n",
       "      <td>VISp_5</td>\n",
       "    </tr>\n",
       "    <tr>\n",
       "      <th>10717</th>\n",
       "      <td>10718</td>\n",
       "      <td>501.410000</td>\n",
       "      <td>789.604000</td>\n",
       "      <td>False</td>\n",
       "      <td>2</td>\n",
       "      <td>2</td>\n",
       "      <td>NaN</td>\n",
       "      <td>NaN</td>\n",
       "      <td>NaN</td>\n",
       "      <td>0.9991</td>\n",
       "      <td>NaN</td>\n",
       "      <td>VISp_4</td>\n",
       "    </tr>\n",
       "    <tr>\n",
       "      <th>10718</th>\n",
       "      <td>10719</td>\n",
       "      <td>565.879333</td>\n",
       "      <td>1194.863333</td>\n",
       "      <td>False</td>\n",
       "      <td>3</td>\n",
       "      <td>3</td>\n",
       "      <td>7.3580</td>\n",
       "      <td>8.787</td>\n",
       "      <td>0.4077</td>\n",
       "      <td>0.9761</td>\n",
       "      <td>NaN</td>\n",
       "      <td>VISp_2/3</td>\n",
       "    </tr>\n",
       "  </tbody>\n",
       "</table>\n",
       "<p>10719 rows × 12 columns</p>\n",
       "</div>"
      ],
      "text/plain": [
       "        cell           x            y  has_center  cluster  n_transcripts  \\\n",
       "0          1   19.142500   179.994429       False        3             70   \n",
       "1          2   18.728989   240.994511       False        3             47   \n",
       "2          3   19.650893   251.944857       False        4             28   \n",
       "3          4   21.228078   282.335448       False        2            134   \n",
       "4          5   21.100798   308.535787       False        3             47   \n",
       "...      ...         ...          ...         ...      ...            ...   \n",
       "10714  10715  253.218250   592.672500       False        2             12   \n",
       "10715  10716  321.392500   801.450000       False        2              2   \n",
       "10716  10717  896.513000   967.688000       False        1              1   \n",
       "10717  10718  501.410000   789.604000       False        2              2   \n",
       "10718  10719  565.879333  1194.863333       False        3              3   \n",
       "\n",
       "       density  elongation      area  avg_confidence  doublet_score  \\\n",
       "0       0.9425       3.624   74.2700          0.9870       0.497700   \n",
       "1       0.9683       9.837   48.5400          0.9961       0.003106   \n",
       "2       1.1160       1.274   25.1000          0.9860            NaN   \n",
       "3       0.9011       2.932  148.7000          0.9964       0.061940   \n",
       "4       1.0400       3.898   45.2000          0.9991       0.035630   \n",
       "...        ...         ...       ...             ...            ...   \n",
       "10714   1.9000       2.278    6.3170          0.9983            NaN   \n",
       "10715      NaN         NaN       NaN          0.9986            NaN   \n",
       "10716      NaN         NaN       NaN          0.9709            NaN   \n",
       "10717      NaN         NaN       NaN          0.9991            NaN   \n",
       "10718   7.3580       8.787    0.4077          0.9761            NaN   \n",
       "\n",
       "              layer  \n",
       "0      outside_VISp  \n",
       "1      outside_VISp  \n",
       "2      outside_VISp  \n",
       "3      outside_VISp  \n",
       "4      outside_VISp  \n",
       "...             ...  \n",
       "10714  outside_VISp  \n",
       "10715      VISp_2/3  \n",
       "10716        VISp_5  \n",
       "10717        VISp_4  \n",
       "10718      VISp_2/3  \n",
       "\n",
       "[10719 rows x 12 columns]"
      ]
     },
     "execution_count": 10,
     "metadata": {},
     "output_type": "execute_result"
    }
   ],
   "source": [
    "cell_stats"
   ]
  },
  {
   "cell_type": "code",
   "execution_count": 11,
   "metadata": {},
   "outputs": [],
   "source": [
    "cell_stats.to_csv(\"/Users/brian/Downloads/barista_seq_updated/segmentation_cell_stats_BRL_layers.csv\")"
   ]
  },
  {
   "cell_type": "code",
   "execution_count": null,
   "metadata": {},
   "outputs": [],
   "source": []
  }
 ],
 "metadata": {
  "kernelspec": {
   "display_name": "Python 3",
   "language": "python",
   "name": "python3"
  },
  "language_info": {
   "codemirror_mode": {
    "name": "ipython",
    "version": 3
   },
   "file_extension": ".py",
   "mimetype": "text/x-python",
   "name": "python",
   "nbconvert_exporter": "python",
   "pygments_lexer": "ipython3",
   "version": "3.7.9"
  }
 },
 "nbformat": 4,
 "nbformat_minor": 2
}
