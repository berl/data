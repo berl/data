{
 "cells": [
  {
   "cell_type": "code",
   "execution_count": null,
   "metadata": {},
   "outputs": [],
   "source": [
    "%gui qt\n",
    "import napari\n",
    "import pandas as pd\n",
    "import numpy as np\n",
    "from IPython.core.display import display, HTML\n",
    "display(HTML(\"<style>.container { width:100% !important; }</style>\"))\n",
    "from shapely.geometry import Polygon, Point,LineString,  mapping\n"
   ]
  },
  {
   "cell_type": "code",
   "execution_count": null,
   "metadata": {},
   "outputs": [],
   "source": [
    "import json\n",
    "import geojson\n",
    "from spacetx_spatial_analysis import depth_coordinate"
   ]
  },
  {
   "cell_type": "markdown",
   "metadata": {},
   "source": [
    "## Make a napari viewer..."
   ]
  },
  {
   "cell_type": "code",
   "execution_count": null,
   "metadata": {},
   "outputs": [],
   "source": [
    "v = napari.Viewer()"
   ]
  },
  {
   "cell_type": "markdown",
   "metadata": {},
   "source": [
    "## Load spot table from 1 dataset"
   ]
  },
  {
   "cell_type": "code",
   "execution_count": null,
   "metadata": {},
   "outputs": [],
   "source": [
    "# load one spotxgene table\n",
    "all_spots = pd.read_csv(\"/Users/brian/Downloads/spot_table.csv\")\n",
    "genes = all_spots[\"gene\"].unique()"
   ]
  },
  {
   "cell_type": "code",
   "execution_count": null,
   "metadata": {},
   "outputs": [],
   "source": [
    "subsample = 1 # change to >1 if number of points is too high\n",
    "colorlist = [\"magenta\", \"red\",\"blue\",\"cyan\", \"green\", \"orange\",\"red\"]\n"
   ]
  },
  {
   "cell_type": "code",
   "execution_count": null,
   "metadata": {},
   "outputs": [],
   "source": [
    "cindex = 0\n",
    "for ii, gene_to_plot in enumerate([\"Gad1\",\"Gad2\",\"Slc17a7\",\"Cux2\",\"Calb1\",\"Meis2\",\"Foxp2\", \"Atp1a3\" , \"Vxn\", \"Pcp4\" , \"Fezf2\" , \"Rorb\" , \"Gm11549\"]):\n",
    "\n",
    "    if gene_to_plot in genes:\n",
    "        if gene_to_plot == \"Slc17a7\":\n",
    "            spots = v.add_points(all_spots[all_spots[\"gene\"]==gene_to_plot][[\"x_um\",\"y_um\"]].values[::subsample,:], symbol='disc',\n",
    "                                 name = gene_to_plot+\"+\",edge_color= [0,0,0,0], size = 1.5,\n",
    "                                 face_color= colorlist[ cindex % len(colorlist)] , blending = \"translucent\", opacity = 0.8)\n",
    "        else:\n",
    "            spots = v.add_points(all_spots[all_spots[\"gene\"]==gene_to_plot][[\"x_um\",\"y_um\"]].values[::subsample,:], symbol='disc',\n",
    "                     name = gene_to_plot+\"+\",edge_color= [0,0,0,0], size = 2.,\n",
    "                     face_color= colorlist[ cindex % len(colorlist)] , blending = \"translucent\", opacity = 0.7)\n",
    "        cindex = cindex + 1"
   ]
  },
  {
   "cell_type": "code",
   "execution_count": null,
   "metadata": {},
   "outputs": [],
   "source": [
    "v.layers"
   ]
  },
  {
   "cell_type": "markdown",
   "metadata": {},
   "source": [
    "### annotate the layers in that viewer in a single `shapes` layer\n",
    "#### Naming/order Convention:\n",
    "0. outline of entire area\n",
    "1. Layer 1\n",
    "1. Layer 2/3\n",
    "2. Layer 4\n",
    "3. Layer 5\n",
    "4. Layer 6\n",
    "5. white matter\n",
    "6. single line segment, pointing from pia to white matter "
   ]
  },
  {
   "cell_type": "markdown",
   "metadata": {},
   "source": [
    "#### annotate the layer locations in a list"
   ]
  },
  {
   "cell_type": "code",
   "execution_count": null,
   "metadata": {},
   "outputs": [],
   "source": [
    "shapes_layer = v.layers[-1].data[:-1]\n",
    "column_points = v.layers[-1].data[-1]"
   ]
  },
  {
   "cell_type": "code",
   "execution_count": null,
   "metadata": {},
   "outputs": [],
   "source": [
    "if len(v.layers[-1].data) != 8:\n",
    "    print(\"please annotate the 7 polygons and 1 line segment described above\")\n",
    "else:\n",
    "    print(\"8 annotations\")"
   ]
  },
  {
   "cell_type": "code",
   "execution_count": null,
   "metadata": {},
   "outputs": [],
   "source": [
    "# go get all the plotted points and note if they're in the annotated polygons\n",
    "is_in_layer = {ii:[Polygon(p).intersects(Point(a))  for a  in all_spots[[\"x_um\",\"y_um\"]].values] for ii,p in enumerate(shapes_layer)}"
   ]
  },
  {
   "cell_type": "code",
   "execution_count": null,
   "metadata": {},
   "outputs": [],
   "source": [
    "all_spots[\"layer\"] = \"outside_VISp\"\n",
    "for k in is_in_layer.keys():\n",
    "    all_spots.loc[is_in_layer[k],[\"layer\"]] = annotation_names[k]\n"
   ]
  },
  {
   "cell_type": "code",
   "execution_count": null,
   "metadata": {},
   "outputs": [],
   "source": [
    "all_spots[\"layer\"].unique()"
   ]
  },
  {
   "cell_type": "code",
   "execution_count": null,
   "metadata": {},
   "outputs": [],
   "source": [
    "# now the spots have depth coordinates, which will be useful for detected spots v. column depth\n",
    "all_spots[\"depth_um\"] = depth_coordinate(all_spots[[\"x_um\",\"y_um\"]].values, column_points)"
   ]
  },
  {
   "cell_type": "code",
   "execution_count": null,
   "metadata": {},
   "outputs": [],
   "source": [
    "all_spots"
   ]
  },
  {
   "cell_type": "code",
   "execution_count": null,
   "metadata": {},
   "outputs": [],
   "source": [
    "all_spots.to_csv(\"Allen_MERFISH_spots_with_anatomy.csv\")"
   ]
  },
  {
   "cell_type": "code",
   "execution_count": null,
   "metadata": {},
   "outputs": [],
   "source": [
    "annotation_names = [\"VISp\", \"VISp_I\", \"VISp_II/III\", \"VISp_IV\", \"VISp_V\",\"VISp_VI\", \"VISp_wm\", \"column_axis\"]\n"
   ]
  },
  {
   "cell_type": "code",
   "execution_count": null,
   "metadata": {},
   "outputs": [],
   "source": [
    "annotations = [mapping(Polygon(p))  for ii,p in enumerate(shapes_layer)]\n",
    "annotations.append(mapping(LineString(column_points)))\n",
    "for ii,ai in enumerate(annotations):\n",
    "    ai[\"name\"] = annotation_names[ii]\n",
    "\n",
    "a = geojson.GeometryCollection(annotations)\n",
    "\n",
    "with open(\"Allen_MERFISH_annotations_geo.json\",'w') as w:\n",
    "    geojson.dump(a,w)"
   ]
  },
  {
   "cell_type": "code",
   "execution_count": null,
   "metadata": {},
   "outputs": [],
   "source": [
    "with open(\"/Users/brian/work/data/stardist_rois.json\",'r') as r:\n",
    "    shapejson = geojson.load(r)"
   ]
  },
  {
   "cell_type": "code",
   "execution_count": null,
   "metadata": {},
   "outputs": [],
   "source": [
    "shapes_to_add = [0.1078*4.*np.array(geo[\"coordinates\"][0][::5]) for geo in shapejson[\"geometries\"]]\n",
    "for f in shapes_to_add:\n",
    "    f[:,0] = f[:,0]+1154\n",
    "    f[:,1] = f[:,1]+4548  #6237"
   ]
  },
  {
   "cell_type": "code",
   "execution_count": null,
   "metadata": {},
   "outputs": [],
   "source": [
    "import imageio"
   ]
  },
  {
   "cell_type": "code",
   "execution_count": null,
   "metadata": {},
   "outputs": [],
   "source": [
    "egdapi = imageio.imread(\"/Users/brian/work/mFISH__002_DAPI_Overview-ds.tif\")"
   ]
  },
  {
   "cell_type": "code",
   "execution_count": null,
   "metadata": {},
   "outputs": [],
   "source": [
    "print(10706.668188763051*0.1078)\n",
    "print(44241.16940370426*0.1078 - 2048*.1078)"
   ]
  },
  {
   "cell_type": "code",
   "execution_count": null,
   "metadata": {},
   "outputs": [],
   "source": [
    "v.add_image(egdapi.T, scale = [4.0*0.1078, 4.0*0.1078], translate = [1154, 4548])"
   ]
  },
  {
   "cell_type": "code",
   "execution_count": null,
   "metadata": {},
   "outputs": [],
   "source": [
    "v.add_shapes(shapes_to_add ,\n",
    "        shape_type='polygon',\n",
    "        edge_width=1,\n",
    "        edge_color='coral',\n",
    "        face_color='royalblue',\n",
    "        name='shapesjhjh')"
   ]
  },
  {
   "cell_type": "code",
   "execution_count": null,
   "metadata": {},
   "outputs": [],
   "source": [
    "shapes_to_add[33]"
   ]
  },
  {
   "cell_type": "code",
   "execution_count": null,
   "metadata": {},
   "outputs": [],
   "source": []
  },
  {
   "cell_type": "code",
   "execution_count": null,
   "metadata": {},
   "outputs": [],
   "source": [
    "1.03*63./60."
   ]
  },
  {
   "cell_type": "code",
   "execution_count": null,
   "metadata": {},
   "outputs": [],
   "source": [
    "40/(6660-5383)"
   ]
  },
  {
   "cell_type": "code",
   "execution_count": null,
   "metadata": {},
   "outputs": [],
   "source": [
    "1888-1845"
   ]
  },
  {
   "cell_type": "code",
   "execution_count": null,
   "metadata": {},
   "outputs": [],
   "source": [
    "30"
   ]
  },
  {
   "cell_type": "code",
   "execution_count": null,
   "metadata": {},
   "outputs": [],
   "source": [
    "1817-1786"
   ]
  },
  {
   "cell_type": "code",
   "execution_count": null,
   "metadata": {},
   "outputs": [],
   "source": [
    "77-56"
   ]
  },
  {
   "cell_type": "code",
   "execution_count": null,
   "metadata": {},
   "outputs": [],
   "source": []
  }
 ],
 "metadata": {
  "kernelspec": {
   "display_name": "Python 3",
   "language": "python",
   "name": "python3"
  },
  "language_info": {
   "codemirror_mode": {
    "name": "ipython",
    "version": 3
   },
   "file_extension": ".py",
   "mimetype": "text/x-python",
   "name": "python",
   "nbconvert_exporter": "python",
   "pygments_lexer": "ipython3",
   "version": "3.7.9"
  }
 },
 "nbformat": 4,
 "nbformat_minor": 2
}
